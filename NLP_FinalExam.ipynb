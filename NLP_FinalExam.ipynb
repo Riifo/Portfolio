{
  "cells": [
    {
      "cell_type": "markdown",
      "metadata": {
        "id": "HnopDRcTWZ3z"
      },
      "source": [
        "# Final Exam - MNIST (35%)\n",
        "\n",
        "In this final assignment, you will use all the topics that you learnt throught the course, but specially:\n",
        "\n",
        "* Training a Machine Learning model\n",
        "* Optimizers (Variations of Gradient Descent)\n",
        "* Defining the Architecture of a Neural Network\n",
        "* Regularization Methods (Dropout)\n",
        "* Evaluating a Neural Network (Loss and Accuracy)\n",
        "\n",
        "**Deadline:** May 17th 11:59 PM (Finnish Time)\n",
        "\n",
        "**Author:** Andrés Felipe Zapata Palacio  \n",
        "\n",
        "**Tasks:**  \n",
        "* #1 Find Optimal Dropout Rate **(25 points)**\n",
        "* #2 Redefine your architecture **(25 points)**\n",
        "* #3 Find best Optimizer **(25 points)**\n",
        "* #4 Evaluate your model using handwritten digits made by you **(25 points)**"
      ]
    },
    {
      "cell_type": "markdown",
      "metadata": {
        "id": "LA491zMKbFYk"
      },
      "source": [
        "**Important Notes** ⚠️\n",
        " \n",
        "* You are allowed to modify only the parts of the code that are delimited by the commentaries. These sections usually have a commentary that says: \"Write your code here\".\n",
        "\n",
        "* For the open questions, you have to explain your opinion or decision in detail. You must demonstrate that you dominate the topics of the course with your answer.\n",
        "\n",
        "* Upload the Notebook in Moodle using the format ipynb, you must export the notebook without removing the outputs from the cells.\n",
        "\n",
        "* Verify that your notebook runs without errors before submitting it in Moodle"
      ]
    },
    {
      "cell_type": "markdown",
      "metadata": {
        "id": "knGcKwBrbLFx"
      },
      "source": [
        "**Name of the Student (Penalization of 5 points)** ⚠️\n",
        "\n",
        "One requirement for this assignment is to change the name of the file before uploading it to the system E.j (NLP_04_Lab_Andres_Zapata.ipynb). Additionally, you have to write your name in the space bellow:\n",
        "\n",
        "```\n",
        "riifo\n",
        "```\n",
        "\n",
        "If you don't do these two steps, your final score will be reduced in 5 points.\n",
        "\n"
      ]
    },
    {
      "cell_type": "markdown",
      "metadata": {
        "id": "b9Zb9vjqKQ1P"
      },
      "source": [
        "## ☑️ Pre-Task 1 (0 Points)\n",
        "\n",
        "Load the dependencies and the dataset of hand-written images. You can also explore the different images to get familiarized with the structure of the dataset."
      ]
    },
    {
      "cell_type": "code",
      "execution_count": 1,
      "metadata": {
        "id": "osyGbdYiO_Jb"
      },
      "outputs": [],
      "source": [
        "import keras\n",
        "import tensorflow as tf\n",
        "import tensorflow_datasets as tfds\n",
        "import matplotlib.pyplot as plt"
      ]
    },
    {
      "cell_type": "code",
      "execution_count": 2,
      "metadata": {
        "colab": {
          "base_uri": "https://localhost:8080/"
        },
        "id": "OJ24acGGXw44",
        "outputId": "1da87733-5239-4b6b-cfc9-dff38b81aca4"
      },
      "outputs": [
        {
          "name": "stdout",
          "output_type": "stream",
          "text": [
            "Downloading data from https://storage.googleapis.com/tensorflow/tf-keras-datasets/mnist.npz\n",
            "11493376/11490434 [==============================] - 0s 0us/step\n",
            "11501568/11490434 [==============================] - 0s 0us/step\n"
          ]
        }
      ],
      "source": [
        "(x_train, y_train), (x_test, y_test) = tf.keras.datasets.mnist.load_data()\n",
        "\n",
        "x_train = x_train / 255\n",
        "x_test = x_test / 255\n",
        "y_train = tf.keras.utils.to_categorical(y_train, 10)\n",
        "y_test = tf.keras.utils.to_categorical(y_test,10)"
      ]
    },
    {
      "cell_type": "markdown",
      "metadata": {
        "id": "rvJ5V_k4bU8W"
      },
      "source": [
        "##☑️ Task 1 (25 Points)\n",
        "\n",
        "**🎯Task:** Use Dropout layers after each Hidden Layer (DON'T add Dropout in the input layer or in the output layer). You must find the optimal value for dropout rate. You must explain your observations in the respective space for the answer at the end of the exam.\n",
        "\n",
        "Remember that Dropout Rate specifies the probability of **dropping** a neuron in each iteration. For this reason, it must be a value between 0 and 1. So a dropout rate of 0.5 means that there is a 50% of probability of dropping each neuron, in other words, it's expected that half of the neurons (in average) are deactivated in each iteration. \n",
        "\n",
        "**🧩Hint:** Every time that you increase or decrease the Dropout rate, you must readjust the architecture of the neural network. If you increase the Dropout rate, the difference between the Training and the Test metrics is going to be smaller, but at the same time, its expected that both accuracies decrease together. For this reason, if you increase the Dropout rate you must increase also the complexity of the model. You must add more neurons or more layers. Regularization reduces overfitting but at the same time reduces model complexity, so you must increase the complexity manually in the architecture definition.\n",
        "\n",
        "For each Dropout rate there is a unique optimal architecture, you must find it, or get very close to it.\n",
        "\n",
        "**Example of Dropout usage in Keras:**\n",
        "\n",
        "```\n",
        "from keras.layers import Dense, Input, Dropout\n",
        "\n",
        "layers = [\n",
        "  Input(inputSize)\n",
        "  Dense(numberOfNeuronsForFirstHiddenLayer)\n",
        "  Dropout(dropoutRateOfHiddenLayer)\n",
        "  Dense(outputSize)\n",
        "]\n",
        "```\n",
        "\n",
        "##☑️ Task 2 (25 Points)\n",
        "\n",
        "**🎯Task:** Redefine the architecture of your Neural Network. Adjust the number of layers, the activations, and the number of neurons of each layer.\n",
        "The objective is to get the highest Test Accuracy, preventing the overfitting. Additionally, you must describe your architecture in your own words.\n",
        "\n",
        "Now that you can use regualization methods, such as L2, L1 and Dropout, you should try to get a better version of your neural network. Make the model more complex and try to get the best possible Test Accuracy (regularization will help you getting a better test accuracy, but you need to increase the complexity also).\n",
        "\n",
        "\n",
        "**NOTE 💥:** Integrating L1 or L2 Regularization can make it more difficult to train the model, because you are adding one more hyperparameter to tune (beta), but if you want to get even better results in the loss, you can integrate them. This is completly OPTIONAL but can give BONUS points if it's implemented correctly.\n",
        "\n",
        "```\n",
        "beta = 0.01\n",
        "layer = Dense(32, kernel_regularizer=l2(beta), bias_regularizer=l2(beta))\n",
        "```\n",
        "\n",
        "##☑️ Task 3 (25 Points)\n",
        "\n",
        "**🎯Task:** Try different optimizers and find the most optimal for your network. Remember that you must fit the different hyperparameters. Depending on the optimizer that you use, you will have different hyperparameters available.\n",
        "\n",
        "It's recommended that you focus on testing the following three optimizers:\n",
        "\n",
        "* Adadelta - [Documentation](https://www.tensorflow.org/api_docs/python/tf/keras/optimizers/Adadelta)\n",
        "\n",
        "* RMSProp - [Documentation](https://www.tensorflow.org/api_docs/python/tf/keras/optimizers/RMSprop)\n",
        "\n",
        "* Adam - [Documentation](https://www.tensorflow.org/api_docs/python/tf/keras/optimizers/Adam)\n",
        "\n",
        "Nevertheless, if you want to explore more optimizers, you can go to the official documentation of [tf.keras.optimizers](https://www.tensorflow.org/api_docs/python/tf/keras/optimizers). In that page, you can find other optmizers, such as Nadam, Adamax, or the traditional Stochastic Gradient Descent."
      ]
    },
    {
      "cell_type": "code",
      "execution_count": 3,
      "metadata": {
        "id": "S7nOG9hAZxQh"
      },
      "outputs": [],
      "source": [
        "from keras.layers import Flatten, Dense, Dropout"
      ]
    },
    {
      "cell_type": "code",
      "execution_count": 14,
      "metadata": {
        "id": "NEFIG55pPLun"
      },
      "outputs": [],
      "source": [
        "##############    WRITE YOUR CODE HERE    ##############\n",
        "\n",
        "# Task 1: Set Dropout rate with values between 0 and 1\n",
        "dropoutRate = 0.2\n",
        "\n",
        "# Task 2 : Choose the optimal hyperparameters\n",
        "kernel_initializer = ki = 'glorot_normal'\n",
        "epochs = 20\n",
        "batch_size = 50\n",
        "\n",
        "\n",
        "# Task 1: Add Dropout layers after each Hidden Layer (DON'T DO IT FOR INPUT)\n",
        "# Task 2: Adjust the number of layers and number of neurons\n",
        "# Bonus Task: Add L1 or L2 Regularization and tune beta\n",
        "layers = [\n",
        "  Flatten(input_shape=(28, 28)),\n",
        "  Dense(50, activation='relu', kernel_initializer=ki),\n",
        "  Dropout(dropoutRate),\n",
        "  Dense(10, activation='softmax', kernel_initializer=ki)\n",
        "]\n",
        "\n",
        "# Task 3 : Find best Optimizer and Tune its own hyperparameters\n",
        "optimizer = tf.keras.optimizers.Adam(learning_rate=0.001)\n",
        "\n",
        "########################################################"
      ]
    },
    {
      "cell_type": "code",
      "execution_count": 15,
      "metadata": {
        "colab": {
          "base_uri": "https://localhost:8080/"
        },
        "id": "4aqC9wEXE2bm",
        "outputId": "a89111cc-c810-422c-b21e-41975c67e2ac"
      },
      "outputs": [
        {
          "name": "stdout",
          "output_type": "stream",
          "text": [
            "Epoch 1/20\n",
            "1200/1200 [==============================] - 3s 3ms/step - loss: 0.4342 - accuracy: 0.8758 - val_loss: 0.2101 - val_accuracy: 0.9398\n",
            "Epoch 2/20\n",
            "1200/1200 [==============================] - 3s 3ms/step - loss: 0.2323 - accuracy: 0.9327 - val_loss: 0.1507 - val_accuracy: 0.9553\n",
            "Epoch 3/20\n",
            "1200/1200 [==============================] - 3s 3ms/step - loss: 0.1873 - accuracy: 0.9450 - val_loss: 0.1325 - val_accuracy: 0.9589\n",
            "Epoch 4/20\n",
            "1200/1200 [==============================] - 3s 3ms/step - loss: 0.1634 - accuracy: 0.9507 - val_loss: 0.1193 - val_accuracy: 0.9637\n",
            "Epoch 5/20\n",
            "1200/1200 [==============================] - 3s 3ms/step - loss: 0.1466 - accuracy: 0.9562 - val_loss: 0.1096 - val_accuracy: 0.9666\n",
            "Epoch 6/20\n",
            "1200/1200 [==============================] - 3s 3ms/step - loss: 0.1351 - accuracy: 0.9589 - val_loss: 0.1044 - val_accuracy: 0.9674\n",
            "Epoch 7/20\n",
            "1200/1200 [==============================] - 3s 3ms/step - loss: 0.1277 - accuracy: 0.9609 - val_loss: 0.0988 - val_accuracy: 0.9702\n",
            "Epoch 8/20\n",
            "1200/1200 [==============================] - 3s 3ms/step - loss: 0.1201 - accuracy: 0.9628 - val_loss: 0.0960 - val_accuracy: 0.9702\n",
            "Epoch 9/20\n",
            "1200/1200 [==============================] - 3s 3ms/step - loss: 0.1113 - accuracy: 0.9654 - val_loss: 0.0959 - val_accuracy: 0.9714\n",
            "Epoch 10/20\n",
            "1200/1200 [==============================] - 3s 2ms/step - loss: 0.1066 - accuracy: 0.9668 - val_loss: 0.0970 - val_accuracy: 0.9716\n",
            "Epoch 11/20\n",
            "1200/1200 [==============================] - 3s 2ms/step - loss: 0.1040 - accuracy: 0.9667 - val_loss: 0.0947 - val_accuracy: 0.9720\n",
            "Epoch 12/20\n",
            "1200/1200 [==============================] - 3s 3ms/step - loss: 0.0978 - accuracy: 0.9691 - val_loss: 0.0924 - val_accuracy: 0.9741\n",
            "Epoch 13/20\n",
            "1200/1200 [==============================] - 3s 3ms/step - loss: 0.0949 - accuracy: 0.9693 - val_loss: 0.0916 - val_accuracy: 0.9734\n",
            "Epoch 14/20\n",
            "1200/1200 [==============================] - 3s 3ms/step - loss: 0.0919 - accuracy: 0.9708 - val_loss: 0.0913 - val_accuracy: 0.9737\n",
            "Epoch 15/20\n",
            "1200/1200 [==============================] - 3s 3ms/step - loss: 0.0881 - accuracy: 0.9710 - val_loss: 0.0885 - val_accuracy: 0.9736\n",
            "Epoch 16/20\n",
            "1200/1200 [==============================] - 3s 3ms/step - loss: 0.0890 - accuracy: 0.9714 - val_loss: 0.0894 - val_accuracy: 0.9727\n",
            "Epoch 17/20\n",
            "1200/1200 [==============================] - 3s 3ms/step - loss: 0.0847 - accuracy: 0.9728 - val_loss: 0.0934 - val_accuracy: 0.9732\n",
            "Epoch 18/20\n",
            "1200/1200 [==============================] - 3s 3ms/step - loss: 0.0839 - accuracy: 0.9730 - val_loss: 0.0926 - val_accuracy: 0.9732\n",
            "Epoch 19/20\n",
            "1200/1200 [==============================] - 3s 3ms/step - loss: 0.0811 - accuracy: 0.9737 - val_loss: 0.0910 - val_accuracy: 0.9747\n",
            "Epoch 20/20\n",
            "1200/1200 [==============================] - 3s 3ms/step - loss: 0.0787 - accuracy: 0.9740 - val_loss: 0.0945 - val_accuracy: 0.9736\n"
          ]
        }
      ],
      "source": [
        "model = tf.keras.models.Sequential(layers)\n",
        "model.compile(\n",
        "    optimizer = optimizer,\n",
        "    loss = 'categorical_crossentropy',\n",
        "    metrics = ['accuracy']\n",
        ")\n",
        "\n",
        "history = model.fit(\n",
        "    x_train,\n",
        "    y_train,\n",
        "    epochs=epochs,\n",
        "    batch_size=batch_size,\n",
        "    validation_data=(x_test,y_test),\n",
        ")"
      ]
    },
    {
      "cell_type": "code",
      "execution_count": 16,
      "metadata": {
        "cellView": "form",
        "colab": {
          "base_uri": "https://localhost:8080/",
          "height": 333
        },
        "id": "zBi8NEopccMI",
        "outputId": "c30b3d32-4262-40a3-ecfc-bbd203ff233b"
      },
      "outputs": [
        {
          "name": "stdout",
          "output_type": "stream",
          "text": [
            "Train Loss: 0.03\n",
            "Test Loss: 0.09\n",
            "\n"
          ]
        },
        {
          "data": {
            "image/png": "[encoded data removed]",
            "text/plain": [
              "<Figure size 432x288 with 1 Axes>"
            ]
          },
          "metadata": {
            "needs_background": "light"
          },
          "output_type": "display_data"
        }
      ],
      "source": [
        "#@title Train vs Test Loss ⚠️\n",
        "#@markdown ⚡ Run this cell to compare the train and test loss in each training epoch\n",
        "\n",
        "plt.title('Train vs Test Loss')\n",
        "plt.plot(history.history['loss'], label='Train Loss')\n",
        "plt.plot(history.history['val_loss'], label='Test Loss')\n",
        "plt.legend()\n",
        "\n",
        "trainLoss = model.evaluate(x_train, y_train, verbose=0)[0]\n",
        "testLoss = model.evaluate(x_test, y_test, verbose=0)[0]\n",
        "\n",
        "print(f'Train Loss: {trainLoss:.2f}')\n",
        "print(f'Test Loss: {testLoss:.2f}')\n",
        "print()"
      ]
    },
    {
      "cell_type": "code",
      "execution_count": 17,
      "metadata": {
        "cellView": "form",
        "colab": {
          "base_uri": "https://localhost:8080/",
          "height": 333
        },
        "id": "kzXj_GEqrijf",
        "outputId": "f396275f-816e-4e85-e498-56294f7ad483"
      },
      "outputs": [
        {
          "name": "stdout",
          "output_type": "stream",
          "text": [
            "Train Accuracy: 99.06%\n",
            "Test Accuracy: 97.36%\n",
            "\n"
          ]
        },
        {
          "data": {
            "image/png": "[encoded data removed]",
            "text/plain": [
              "<Figure size 432x288 with 1 Axes>"
            ]
          },
          "metadata": {
            "needs_background": "light"
          },
          "output_type": "display_data"
        }
      ],
      "source": [
        "#@title Train vs Test Accuracy ⚠️\n",
        "#@markdown ⚡ Run this cell to compare the train and test accuracy in each training epoch\n",
        "\n",
        "plt.title('Train vs Test Accuracy')\n",
        "plt.plot(history.history['accuracy'], label='Train Accuracy')\n",
        "plt.plot(history.history['val_accuracy'], label='Test Accuracy')\n",
        "plt.legend()\n",
        "\n",
        "trainAcc = model.evaluate(x_train, y_train, verbose=0)[1]\n",
        "testAcc = model.evaluate(x_test, y_test, verbose=0)[1]\n",
        "\n",
        "print(f'Train Accuracy: {trainAcc*100:.2f}%')\n",
        "print(f'Test Accuracy: {testAcc*100:.2f}%')\n",
        "print()"
      ]
    },
    {
      "cell_type": "markdown",
      "metadata": {
        "id": "kiCL8sDihGtH"
      },
      "source": [
        "⁉️ **Question Task 1** 🧐\n",
        "\n",
        "* What do you observe for different dropout rates?\n",
        "* Which are the most optimal ranges for this value?\n",
        "* How did you have to modify the architecture of the network?\n",
        "\n",
        "```\n",
        "Switched he_normal to glorot_normal and tried changing the values until accuracy got better.\n",
        "Changing dropout rate closer to zero was easiest for getting the accuracy up.\n",
        "Got getting error about compatibility when trying numbers.\n",
        "\n",
        "loss: 0.6109 - accuracy: 0.8048 - val_loss: 0.3635 - val_accuracy: 0.9015\n",
        "\n",
        "NEW:\n",
        "When changing values, especially when trying to change Dropout Dense to anything but 10, keep getting error:\n",
        "\"ValueError: Shapes (50, 10) and (50, 20) are incompatible\"\n",
        "That is one of the reasons I left it as 10 even though it is 10 in the original version and therefore should be then changed.\n",
        "The only way I get it to run at all is to keep it at 10.\n",
        "\n",
        "\n",
        "```"
      ]
    },
    {
      "cell_type": "markdown",
      "metadata": {
        "id": "sLozN_vKhRDO"
      },
      "source": [
        "⁉️ **Question Task 2** 🧐\n",
        "\n",
        "* What did you observe adding regularization (task 1) and changing the optimizer (task 3)? \n",
        "* How does that affect your architecture? Did you have to change it? How did you change it? \n",
        "* Did you get a better test accuracy making the network more complex and adding regularization methods?\n",
        "* How did you change the architecture of the neural network compared to the first architecture (in the Partial Exam).\n",
        "\n",
        "**Note:** You don't have to answer all these questions, they are just a guide for you to explain in the space down bellow your observations doing this task.\n",
        "\n",
        "```\n",
        "Tried with Adagrad and Adam which was originally there,\n",
        "and Adagrad performed worse when it was the only thing changed.\n",
        "Some of the things felt familiar to look at after having done these in the previous tasks,\n",
        "I knew I wanted to go with glorot_normal at least and to keep the epoch small for the ease of running the code\n",
        "multiple times to find differences, knowing it takes time.\n",
        "\n",
        "NEW:\n",
        "The new values give a better result than the effort first time around.\n",
        "The graphs also look better, being more close together, which is a desirable direction.\n",
        "\n",
        "\n",
        "```"
      ]
    },
    {
      "cell_type": "markdown",
      "metadata": {
        "id": "F1iwP1BdhTlS"
      },
      "source": [
        "⁉️ **Question Task 3** 🧐\n",
        "\n",
        "* Which optimizers did you test?\n",
        "* Did you observe any difference in the learning curve?\n",
        "* Which parameters did you use in each optimizer?\n",
        "\n",
        "```\n",
        "Did a quick googling and read that Adam is supposed to be a really good optimizer so I wanted to keep it.\n",
        "Other one I ran into would have been Adagrad. With Adagrad the first graph slopes\n",
        "softly down and the train and test values are overall closer together.\n",
        "With Adam the first graph drops sharply and the two lines are only loosely parallel and the second graph is even worse, very spaced out.\n",
        "The graphs are not optimal since the lines are not close together.\n",
        "\n",
        "NEW:\n",
        "When I say I googled I do also mean that I did google for the \"official documentation\"\n",
        "and cross reference it with some real life use cases to gain a better understanding.\n",
        "Perhaps I should have screen captured or written down all of the different combinations used,\n",
        "since in the final version there's only the one that worked best, but it doesn't show the effort.\n",
        "```"
      ]
    },
    {
      "cell_type": "markdown",
      "metadata": {
        "id": "YVqvUpcab9yN"
      },
      "source": [
        "##☑️ Task #4 Test the model (25 Points)\n",
        "\n",
        "**🎯Task:** You must draw each digit one time, save them as a PNG files with a resolution of 28x28, and evaluate the model using your digits. There is a cell down bellow that will help you uploading the files and showing the predictions.\n",
        "\n",
        "To draw your own digits you must follow these steps:\n",
        "\n",
        "1. Open https://www.pixilart.com/draw\n",
        "2. Click on **File**, then on **New**\n",
        "3. Set width and height equal to 28 (MNIST digits are images of dimensions 28x28)\n",
        "4. Click on **New Drawing**\n",
        "5. Select the bucket 🪣 in the left column (set of tools) and fill the whole background using the **black** color.\n",
        "6. Select the pencil ✏️ in the left column (set of tools) and draw the digits you want, using the **white** color.\n",
        "7. Once your digit is ready, click on **Download** 📥, then on **''Download png, gif''**, and finally on **DOWNLOAD .PNG**.\n",
        "\n",
        "**Note:** If you have any question about this procedure, and you didn't attend the last class, I recommend you to watch the recording. We explained this process during the session."
      ]
    },
    {
      "cell_type": "code",
      "execution_count": 19,
      "metadata": {
        "cellView": "form",
        "id": "7ZLQbKDzZzIQ"
      },
      "outputs": [],
      "source": [
        "#@title Load Auxiliar Functions ⚠️\n",
        "#@markdown ⚡ Run this cell to load all the auxiliar functions required for Task 4\n",
        "\n",
        "import cv2\n",
        "\n",
        "from google.colab import files\n",
        "import matplotlib.pyplot as plt\n",
        "import numpy as np\n",
        "\n",
        "def imageToArray(fileName):\n",
        "  originalImage = cv2.imread(fileName)\n",
        "  grayImage = cv2.cvtColor(originalImage, cv2.COLOR_BGR2GRAY)\n",
        "  normalizedImage = grayImage / 255\n",
        "  image = normalizedImage.reshape((28,28))\n",
        "  return image\n",
        "\n",
        "def printProbabilities(predictions):\n",
        "  for i in range(10):\n",
        "    prob = predictions[0][i] * 100\n",
        "    if prob > 1:\n",
        "      message = f'Digit {i}\\t{prob:.0f}%'\n",
        "      print(message)\n",
        "\n",
        "def predictImages(uploaded):\n",
        "  for fn in uploaded.keys():\n",
        "    print(fn)\n",
        "    image = imageToArray(fn)\n",
        "    fig = plt.figure\n",
        "    plt.imshow(image, cmap='gray')\n",
        "    plt.show()\n",
        "    ds = image.reshape((1,28,28))\n",
        "    prediction = model.predict(ds)\n",
        "    printProbabilities(prediction)\n",
        "    print('***********************************')"
      ]
    },
    {
      "cell_type": "code",
      "execution_count": 20,
      "metadata": {
        "colab": {
          "base_uri": "https://localhost:8080/",
          "height": 1000,
          "resources": {
            "http://localhost:8080/nbextensions/google.colab/files.js": {
              "data": "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",
              "headers": [
                [
                  "content-type",
                  "application/javascript"
                ]
              ],
              "ok": true,
              "status": 200,
              "status_text": "OK"
            }
          }
        },
        "id": "cQL8BH0bYe_o",
        "outputId": "d4bbb04e-a643-4c74-95dd-a8cb7d90344e"
      },
      "outputs": [
        {
          "data": {
            "text/html": [
              "\n",
              "     <input type=\"file\" id=\"files-4ad1fac3-ecbf-43fc-b295-17ff4ef92817\" name=\"files[]\" multiple disabled\n",
              "        style=\"border:none\" />\n",
              "     <output id=\"result-4ad1fac3-ecbf-43fc-b295-17ff4ef92817\">\n",
              "      Upload widget is only available when the cell has been executed in the\n",
              "      current browser session. Please rerun this cell to enable.\n",
              "      </output>\n",
              "      <script src=\"/nbextensions/google.colab/files.js\"></script> "
            ],
            "text/plain": [
              "<IPython.core.display.HTML object>"
            ]
          },
          "metadata": {},
          "output_type": "display_data"
        },
        {
          "name": "stdout",
          "output_type": "stream",
          "text": [
            "Saving pixil-frame-7.png to pixil-frame-7.png\n",
            "Saving pixil-frame-6.png to pixil-frame-6.png\n",
            "Saving pixil-frame-5.png to pixil-frame-5.png\n",
            "Saving pixil-frame-4.png to pixil-frame-4.png\n",
            "Saving pixil-frame-3.png to pixil-frame-3.png\n",
            "Saving pixil-frame-2.png to pixil-frame-2.png\n",
            "Saving pixil-frame-0.png to pixil-frame-0.png\n",
            "Saving pixil-frame-1.png to pixil-frame-1.png\n",
            "\n",
            "\n",
            "_________________________________________________\n",
            "\n",
            "\n",
            "pixil-frame-7.png\n"
          ]
        },
        {
          "data": {
            "image/png": "[encoded data removed]",
            "text/plain": [
              "<Figure size 432x288 with 1 Axes>"
            ]
          },
          "metadata": {
            "needs_background": "light"
          },
          "output_type": "display_data"
        },
        {
          "name": "stdout",
          "output_type": "stream",
          "text": [
            "Digit 1\t10%\n",
            "Digit 2\t50%\n",
            "Digit 3\t34%\n",
            "Digit 8\t6%\n",
            "***********************************\n",
            "pixil-frame-6.png\n"
          ]
        },
        {
          "data": {
            "image/png": "[encoded data removed]",
            "text/plain": [
              "<Figure size 432x288 with 1 Axes>"
            ]
          },
          "metadata": {
            "needs_background": "light"
          },
          "output_type": "display_data"
        },
        {
          "name": "stdout",
          "output_type": "stream",
          "text": [
            "Digit 2\t2%\n",
            "Digit 5\t31%\n",
            "Digit 6\t53%\n",
            "Digit 8\t13%\n",
            "***********************************\n",
            "pixil-frame-5.png\n"
          ]
        },
        {
          "data": {
            "image/png": "[encoded data removed]",
            "text/plain": [
              "<Figure size 432x288 with 1 Axes>"
            ]
          },
          "metadata": {
            "needs_background": "light"
          },
          "output_type": "display_data"
        },
        {
          "name": "stdout",
          "output_type": "stream",
          "text": [
            "Digit 3\t43%\n",
            "Digit 5\t56%\n",
            "***********************************\n",
            "pixil-frame-4.png\n"
          ]
        },
        {
          "data": {
            "image/png": "[encoded data removed]",
            "text/plain": [
              "<Figure size 432x288 with 1 Axes>"
            ]
          },
          "metadata": {
            "needs_background": "light"
          },
          "output_type": "display_data"
        },
        {
          "name": "stdout",
          "output_type": "stream",
          "text": [
            "Digit 4\t99%\n",
            "Digit 9\t1%\n",
            "***********************************\n",
            "pixil-frame-3.png\n"
          ]
        },
        {
          "data": {
            "image/png": "[encoded data removed]",
            "text/plain": [
              "<Figure size 432x288 with 1 Axes>"
            ]
          },
          "metadata": {
            "needs_background": "light"
          },
          "output_type": "display_data"
        },
        {
          "name": "stdout",
          "output_type": "stream",
          "text": [
            "Digit 3\t100%\n",
            "***********************************\n",
            "pixil-frame-2.png\n"
          ]
        },
        {
          "data": {
            "image/png": "[encoded data removed]",
            "text/plain": [
              "<Figure size 432x288 with 1 Axes>"
            ]
          },
          "metadata": {
            "needs_background": "light"
          },
          "output_type": "display_data"
        },
        {
          "name": "stdout",
          "output_type": "stream",
          "text": [
            "Digit 1\t2%\n",
            "Digit 2\t79%\n",
            "Digit 8\t18%\n",
            "***********************************\n",
            "pixil-frame-0.png\n"
          ]
        },
        {
          "data": {
            "image/png": "[encoded data removed]",
            "text/plain": [
              "<Figure size 432x288 with 1 Axes>"
            ]
          },
          "metadata": {
            "needs_background": "light"
          },
          "output_type": "display_data"
        },
        {
          "name": "stdout",
          "output_type": "stream",
          "text": [
            "Digit 0\t99%\n",
            "***********************************\n",
            "pixil-frame-1.png\n"
          ]
        },
        {
          "data": {
            "image/png": "[encoded data removed]",
            "text/plain": [
              "<Figure size 432x288 with 1 Axes>"
            ]
          },
          "metadata": {
            "needs_background": "light"
          },
          "output_type": "display_data"
        },
        {
          "name": "stdout",
          "output_type": "stream",
          "text": [
            "Digit 1\t72%\n",
            "Digit 3\t7%\n",
            "Digit 7\t13%\n",
            "Digit 9\t7%\n",
            "***********************************\n"
          ]
        }
      ],
      "source": [
        "uploaded = files.upload()\n",
        "print('\\n')\n",
        "print('_________________________________________________')\n",
        "print('\\n')\n",
        "predictImages(uploaded)"
      ]
    },
    {
      "cell_type": "markdown",
      "metadata": {
        "id": "xRaRe_v9IVMa"
      },
      "source": [
        "⁉️ **Question (Task 4)** 🧐\n",
        "\n",
        "What do you observe from the digits written by you? Is the model intelligent enough to classify them correctly? Which digits are misclassified? Does that make sense? What can be the reason for this? Are your digits very different to the ones from the dataset? Did you try drawing your digits similar to the ones that are present in the test set?\n",
        "\n",
        "**🧩Hint:** You should explore the Train and the Test dataset to know how are the digits that you use for testing and training. You can try drawing digits similar to the ones that are present in those datasets.\n",
        "\n",
        "```\n",
        "7 doesn't get recignized well at all, but it might also be from writing it with a horizontal line which is the oldschool way.\n",
        "1 also is confused with 7.\n",
        "Number 2 seems difficult to understand as well, for some reason suggested as 3.\n",
        "When it does get it right it seems to get it right about 60% of the time, which for this not that great of a model is a quite nice success.\n",
        "\n",
        "NEW:\n",
        "There is significant improvement in recognition of the numbers when compared to the first model. Zero, three and four are nearly perfect.\n",
        "Five and six get messed up with each other too much and the way I wrote seven seems to be too much as it was with the previous version,\n",
        "however this time the problem with one and seven interchanging is eliminated to a plausible degree.\n",
        "Overall it seems like a reasonably reliable network capable of learning.\n",
        "\n",
        "\n",
        "\n",
        "```"
      ]
    },
    {
      "cell_type": "code",
      "execution_count": 21,
      "metadata": {
        "cellView": "form",
        "colab": {
          "base_uri": "https://localhost:8080/",
          "height": 265
        },
        "id": "sUgmWk9S_Z8H",
        "outputId": "ec6c1569-8405-4b3e-c1b4-5b7922bc13d8"
      },
      "outputs": [
        {
          "data": {
            "image/png": "[encoded data removed]",
            "text/plain": [
              "<Figure size 432x288 with 1 Axes>"
            ]
          },
          "metadata": {
            "needs_background": "light"
          },
          "output_type": "display_data"
        }
      ],
      "source": [
        "#@title Explore the dataset\n",
        "#@markdown Run this cell to visualize a specific sample from Train or Test dataset\n",
        "\n",
        "index =  1010#@param {type:\"integer\"}\n",
        "dataset = \"Test\" #@param [\"Train\", \"Test\"]\n",
        "\n",
        "if dataset == 'Train':\n",
        "  data = x_train\n",
        "else:\n",
        "  data = x_test\n",
        "\n",
        "if index >= len(data):\n",
        "    print(f'Max index is for {dataset} data is {len(data)}')\n",
        "else:\n",
        "  sample = data[index]\n",
        "  plt.imshow(sample, cmap='binary_r')"
      ]
    },
    {
      "cell_type": "code",
      "execution_count": null,
      "metadata": {
        "id": "WVmGZgETJJ5N"
      },
      "outputs": [],
      "source": []
    }
  ],
  "metadata": {
    "accelerator": "GPU",
    "colab": {
      "collapsed_sections": [],
      "name": "NN_11_FinalExam_RIIKKA_FORMULAHTI.ipynb",
      "provenance": []
    },
    "kernelspec": {
      "display_name": "Python 3",
      "name": "python3"
    },
    "language_info": {
      "name": "python"
    }
  },
  "nbformat": 4,
  "nbformat_minor": 0
}
