{
  "cells": [
    {
      "cell_type": "markdown",
      "metadata": {
        "id": "KJJAHdj0o0xp"
      },
      "source": [
        "**Big Data Tools - Final Task**\n",
        "\n",
        "github: riifo\n",
        "\n",
        "(codes mostly from Moodle code examples of lecture6)\n",
        "\n",
        "dataset: https://www.kaggle.com/datasets/prajwal6362venom/choclate-sales-project\n",
        "\n",
        "**Logistic and Linear Regression**"
      ]
    },
    {
      "cell_type": "code",
      "execution_count": 1,
      "metadata": {
        "colab": {
          "base_uri": "https://localhost:8080/"
        },
        "id": "NUmzqlq6j12I",
        "outputId": "28b14dfb-1dd8-4895-e652-075aba5369d3"
      },
      "outputs": [
        {
          "name": "stdout",
          "output_type": "stream",
          "text": [
            "Looking in indexes: https://pypi.org/simple, https://us-python.pkg.dev/colab-wheels/public/simple/\n",
            "Collecting pyspark\n",
            "  Downloading pyspark-3.4.0.tar.gz (310.8 MB)\n",
            "\u001b[2K     \u001b[90m━━━━━━━━━━━━━━━━━━━━━━━━━━━━━━━━━━━━━━━\u001b[0m \u001b[32m310.8/310.8 MB\u001b[0m \u001b[31m3.6 MB/s\u001b[0m eta \u001b[36m0:00:00\u001b[0m\n",
            "\u001b[?25h  Preparing metadata (setup.py) ... \u001b[?25l\u001b[?25hdone\n",
            "Requirement already satisfied: py4j==0.10.9.7 in /usr/local/lib/python3.10/dist-packages (from pyspark) (0.10.9.7)\n",
            "Building wheels for collected packages: pyspark\n",
            "  Building wheel for pyspark (setup.py) ... \u001b[?25l\u001b[?25hdone\n",
            "  Created wheel for pyspark: filename=pyspark-3.4.0-py2.py3-none-any.whl size=311317145 sha256=bf8730d1d12e75230228faa7fa12db81faacc6646b0c25e6af2f4eaa8ee3ae6c\n",
            "  Stored in directory: /root/.cache/pip/wheels/7b/1b/4b/3363a1d04368e7ff0d408e57ff57966fcdf00583774e761327\n",
            "Successfully built pyspark\n",
            "Installing collected packages: pyspark\n",
            "Successfully installed pyspark-3.4.0\n"
          ]
        }
      ],
      "source": [
        "!pip install pyspark"
      ]
    },
    {
      "cell_type": "code",
      "execution_count": 2,
      "metadata": {
        "colab": {
          "base_uri": "https://localhost:8080/",
          "height": 239
        },
        "id": "LGsWpmmtj39z",
        "outputId": "ef44eea2-d3d6-4cf9-8573-dc2c7fb5c541"
      },
      "outputs": [
        {
          "name": "stdout",
          "output_type": "stream",
          "text": [
            "You are working with 1 core(s)\n"
          ]
        },
        {
          "data": {
            "text/html": [
              "\n",
              "            <div>\n",
              "                <p><b>SparkSession - in-memory</b></p>\n",
              "                \n",
              "        <div>\n",
              "            <p><b>SparkContext</b></p>\n",
              "\n",
              "            <p><a href=\"http://bbb40c8d942a:4040\">Spark UI</a></p>\n",
              "\n",
              "            <dl>\n",
              "              <dt>Version</dt>\n",
              "                <dd><code>v3.4.0</code></dd>\n",
              "              <dt>Master</dt>\n",
              "                <dd><code>local[*]</code></dd>\n",
              "              <dt>AppName</dt>\n",
              "                <dd><code>Classification</code></dd>\n",
              "            </dl>\n",
              "        </div>\n",
              "        \n",
              "            </div>\n",
              "        "
            ],
            "text/plain": [
              "<pyspark.sql.session.SparkSession at 0x7f38301b6b90>"
            ]
          },
          "execution_count": 2,
          "metadata": {},
          "output_type": "execute_result"
        }
      ],
      "source": [
        "import pyspark # only run after findspark.init()\n",
        "from pyspark.sql import SparkSession\n",
        "# May take awhile locally\n",
        "spark = SparkSession.builder.appName(\"Classification\").getOrCreate()\n",
        "\n",
        "cores = spark._jsc.sc().getExecutorMemoryStatus().keySet().size()\n",
        "print(\"You are working with\", cores, \"core(s)\")\n",
        "spark"
      ]
    },
    {
      "cell_type": "code",
      "execution_count": 3,
      "metadata": {
        "id": "n89dPYyhj4BH"
      },
      "outputs": [],
      "source": [
        "# Read in functions we will need\n",
        "from pyspark.ml.feature import VectorAssembler\n",
        "from pyspark.sql.types import * \n",
        "from pyspark.sql.functions import *\n",
        "from pyspark.ml.feature import StringIndexer\n",
        "from pyspark.ml.feature import MinMaxScaler"
      ]
    },
    {
      "cell_type": "code",
      "execution_count": 4,
      "metadata": {
        "colab": {
          "base_uri": "https://localhost:8080/"
        },
        "id": "VQlxJFBFj4EB",
        "outputId": "5ef3167b-0257-415b-9d47-36485728190b"
      },
      "outputs": [
        {
          "name": "stdout",
          "output_type": "stream",
          "text": [
            "Mounted at /content/drive/\n"
          ]
        }
      ],
      "source": [
        "from google.colab import drive\n",
        "drive.mount('/content/drive/')"
      ]
    },
    {
      "cell_type": "code",
      "execution_count": 6,
      "metadata": {
        "id": "BP4yUmYCj4HB"
      },
      "outputs": [],
      "source": [
        "data = spark.read.csv('/content/drive/My Drive/chocolate.csv', inferSchema=True, header=True)"
      ]
    },
    {
      "cell_type": "code",
      "execution_count": 7,
      "metadata": {
        "colab": {
          "base_uri": "https://localhost:8080/"
        },
        "id": "0ZHeq7Dpj4KR",
        "outputId": "a08da428-36ff-4fd8-d388-966ff9ae63fe"
      },
      "outputs": [
        {
          "name": "stdout",
          "output_type": "stream",
          "text": [
            "root\n",
            " |-- Sales Person: string (nullable = true)\n",
            " |-- Geography: string (nullable = true)\n",
            " |-- Product: string (nullable = true)\n",
            " |-- Amount: string (nullable = true)\n",
            " |-- Units: integer (nullable = true)\n",
            " |-- cost per unit: integer (nullable = true)\n",
            " |-- Cost: string (nullable = true)\n",
            " |-- Profit: string (nullable = true)\n",
            " |-- profit %: string (nullable = true)\n",
            "\n"
          ]
        }
      ],
      "source": [
        "data.printSchema()"
      ]
    },
    {
      "cell_type": "code",
      "execution_count": 10,
      "metadata": {
        "colab": {
          "base_uri": "https://localhost:8080/"
        },
        "id": "gD0bLwgaj4QH",
        "outputId": "10b97ef9-a3d2-4c7e-bfb4-e3425cd0e393"
      },
      "outputs": [
        {
          "name": "stdout",
          "output_type": "stream",
          "text": [
            "+--------+-----+\n",
            "|  Amount|count|\n",
            "+--------+-----+\n",
            "| $7,189 |    1|\n",
            "|    $42 |    1|\n",
            "| $4,858 |    1|\n",
            "| $8,155 |    1|\n",
            "|   $182 |    1|\n",
            "| $9,051 |    1|\n",
            "| $8,862 |    1|\n",
            "| $9,632 |    1|\n",
            "|$10,129 |    1|\n",
            "|   $819 |    2|\n",
            "| $1,778 |    1|\n",
            "| $7,483 |    1|\n",
            "| $1,302 |    1|\n",
            "|   $861 |    1|\n",
            "| $6,657 |    2|\n",
            "|   $497 |    1|\n",
            "|   $238 |    1|\n",
            "| $6,608 |    1|\n",
            "| $5,551 |    1|\n",
            "|$10,073 |    1|\n",
            "| $6,300 |    1|\n",
            "| $2,114 |    2|\n",
            "| $1,085 |    1|\n",
            "| $6,909 |    1|\n",
            "| $5,474 |    1|\n",
            "| $9,660 |    1|\n",
            "| $4,760 |    1|\n",
            "| $4,417 |    1|\n",
            "|   $154 |    1|\n",
            "| $7,812 |    1|\n",
            "| $2,471 |    1|\n",
            "|   $854 |    1|\n",
            "| $1,561 |    1|\n",
            "| $5,306 |    1|\n",
            "| $6,734 |    1|\n",
            "| $1,400 |    1|\n",
            "| $5,775 |    1|\n",
            "| $9,443 |    1|\n",
            "| $1,701 |    1|\n",
            "| $3,402 |    1|\n",
            "| $4,438 |    1|\n",
            "| $1,274 |    1|\n",
            "|   $189 |    1|\n",
            "| $4,326 |    1|\n",
            "| $1,638 |    2|\n",
            "| $6,986 |    1|\n",
            "| $2,919 |    2|\n",
            "| $5,439 |    1|\n",
            "| $2,100 |    1|\n",
            "| $3,262 |    1|\n",
            "| $7,777 |    2|\n",
            "|   $357 |    1|\n",
            "|$15,610 |    1|\n",
            "| $6,118 |    2|\n",
            "| $5,194 |    1|\n",
            "| $6,860 |    1|\n",
            "| $2,149 |    1|\n",
            "| $1,589 |    1|\n",
            "|   $217 |    1|\n",
            "|   $973 |    1|\n",
            "| $4,319 |    1|\n",
            "|   $469 |    1|\n",
            "| $3,850 |    1|\n",
            "| $5,236 |    1|\n",
            "| $3,507 |    1|\n",
            "| $2,324 |    1|\n",
            "| $3,864 |    1|\n",
            "|   $385 |    1|\n",
            "| $6,111 |    1|\n",
            "|     $0 |    1|\n",
            "|   $700 |    1|\n",
            "| $9,926 |    1|\n",
            "| $4,305 |    1|\n",
            "|   $560 |    1|\n",
            "| $9,506 |    1|\n",
            "| $7,693 |    2|\n",
            "|   $490 |    1|\n",
            "| $2,856 |    1|\n",
            "| $2,436 |    1|\n",
            "| $2,408 |    1|\n",
            "| $2,583 |    1|\n",
            "| $4,725 |    1|\n",
            "| $1,974 |    1|\n",
            "| $1,904 |    1|\n",
            "| $2,954 |    1|\n",
            "|   $567 |    1|\n",
            "| $7,455 |    1|\n",
            "| $6,755 |    1|\n",
            "| $8,463 |    1|\n",
            "| $1,505 |    1|\n",
            "| $2,268 |    1|\n",
            "| $4,683 |    1|\n",
            "| $7,273 |    1|\n",
            "| $1,785 |    1|\n",
            "| $2,275 |    1|\n",
            "| $3,598 |    1|\n",
            "|   $966 |    1|\n",
            "| $2,737 |    1|\n",
            "| $4,585 |    1|\n",
            "| $1,617 |    1|\n",
            "+--------+-----+\n",
            "only showing top 100 rows\n",
            "\n"
          ]
        }
      ],
      "source": [
        "data.groupBy(\"Amount\").count().show(100)"
      ]
    },
    {
      "cell_type": "code",
      "execution_count": 11,
      "metadata": {
        "colab": {
          "base_uri": "https://localhost:8080/"
        },
        "id": "lbLbIzPqj4S6",
        "outputId": "d50c534b-4dd3-4073-a23f-8a192ce85aeb"
      },
      "outputs": [
        {
          "name": "stdout",
          "output_type": "stream",
          "text": [
            "['Sales Person', 'Geography', 'Product', 'Amount', 'Units', 'cost per unit', 'Cost', 'Profit', 'profit %']\n"
          ]
        }
      ],
      "source": [
        "# Declare values you will need\n",
        "# Collect the column names as a list\n",
        "input_columns = data.columns \n",
        "print(input_columns)"
      ]
    },
    {
      "cell_type": "code",
      "execution_count": 12,
      "metadata": {
        "id": "vC4Xg9Oqj4VZ"
      },
      "outputs": [],
      "source": [
        "# keep only the indepent variables:\n",
        "input_columns = input_columns[1:-1]"
      ]
    },
    {
      "cell_type": "code",
      "execution_count": 13,
      "metadata": {
        "colab": {
          "base_uri": "https://localhost:8080/"
        },
        "id": "gUbljt19j4Ya",
        "outputId": "56983a77-ec0d-4181-84a1-338e8516ac3d"
      },
      "outputs": [
        {
          "name": "stdout",
          "output_type": "stream",
          "text": [
            "['Geography', 'Product', 'Amount', 'Units', 'cost per unit', 'Cost', 'Profit']\n"
          ]
        }
      ],
      "source": [
        "print(input_columns)"
      ]
    },
    {
      "cell_type": "code",
      "execution_count": 14,
      "metadata": {
        "id": "6oDTfDtUkIJK"
      },
      "outputs": [],
      "source": [
        "dependent_var = 'Amount'"
      ]
    },
    {
      "cell_type": "code",
      "execution_count": 15,
      "metadata": {
        "colab": {
          "base_uri": "https://localhost:8080/"
        },
        "id": "nNhFv9j6kIMN",
        "outputId": "523bc996-7be7-4474-fcf0-ac549b31e16c"
      },
      "outputs": [
        {
          "data": {
            "text/plain": [
              "DataFrame[Sales Person: string, Geography: string, Product: string, Amount: string, Units: int, cost per unit: int, Cost: string, Profit: string, profit %: string, label_str: string]"
            ]
          },
          "execution_count": 15,
          "metadata": {},
          "output_type": "execute_result"
        }
      ],
      "source": [
        "# change label (class variable) to string type to prep for reindexing\n",
        "# Pyspark is expecting a zero indexed integer for the label column. \n",
        "# Just in case our data is not in that format... we will treat it by using the StringIndexer built in method\n",
        "#Rename and change to string type\n",
        "renamed = data.withColumn(\"label_str\", data[dependent_var].cast(StringType()))\n",
        "renamed"
      ]
    },
    {
      "cell_type": "code",
      "execution_count": 16,
      "metadata": {
        "id": "0ImxMEa8kIP-"
      },
      "outputs": [],
      "source": [
        "#Pyspark is expecting the this naming convention \n",
        "indexer = StringIndexer(inputCol=\"label_str\", outputCol=\"label\")\n",
        "indexed = indexer.fit(renamed).transform(renamed)"
      ]
    },
    {
      "cell_type": "code",
      "execution_count": 17,
      "metadata": {
        "colab": {
          "base_uri": "https://localhost:8080/"
        },
        "id": "yFZ1mj9RkIS6",
        "outputId": "66440680-672f-474a-fa15-37c2c3c832fe"
      },
      "outputs": [
        {
          "data": {
            "text/plain": [
              "StringType()"
            ]
          },
          "execution_count": 17,
          "metadata": {},
          "output_type": "execute_result"
        }
      ],
      "source": [
        "data.schema['Cost'].dataType"
      ]
    },
    {
      "cell_type": "code",
      "execution_count": 18,
      "metadata": {
        "id": "5h9Giph6kIVx"
      },
      "outputs": [],
      "source": [
        "# Convert all string type data in the input column list to numeric\n",
        "# Otherwise the Algorithm will not be able to process it\n",
        "\n",
        "# Also we will use these lists later on\n",
        "numeric_inputs = []\n",
        "string_inputs = []\n",
        "for column in input_columns:\n",
        "    # First identify the string vars in your input column list\n",
        "    if str(indexed.schema[column].dataType) == 'StringType()':\n",
        "        # Set up your String Indexer function\n",
        "        indexer = StringIndexer(inputCol=column, outputCol=column+\"_num\") \n",
        "        # Then call on the indexer you created here\n",
        "        indexed = indexer.fit(indexed).transform(indexed)\n",
        "        # Rename the column to a new name so you can disinguish it from the original\n",
        "        new_col_name = column+\"_num\"\n",
        "        # Add the new column name to the string inputs list\n",
        "        string_inputs.append(new_col_name)\n",
        "    else:\n",
        "        # If no change was needed, take no action \n",
        "        # And add the numeric var to the num list\n",
        "        numeric_inputs.append(column)"
      ]
    },
    {
      "cell_type": "code",
      "execution_count": 19,
      "metadata": {
        "colab": {
          "base_uri": "https://localhost:8080/"
        },
        "id": "86rLESzKj4bD",
        "outputId": "2053b196-35af-4b6c-8aff-a66dd9e0b74f"
      },
      "outputs": [
        {
          "name": "stdout",
          "output_type": "stream",
          "text": [
            "['Geography_num', 'Product_num', 'Amount_num', 'Cost_num', 'Profit_num']\n"
          ]
        }
      ],
      "source": [
        "print(string_inputs)"
      ]
    },
    {
      "cell_type": "code",
      "execution_count": 20,
      "metadata": {
        "colab": {
          "base_uri": "https://localhost:8080/"
        },
        "id": "6ygV4Ceakd-6",
        "outputId": "b312286c-a656-49fc-99cd-f08252830ce7"
      },
      "outputs": [
        {
          "name": "stdout",
          "output_type": "stream",
          "text": [
            "['Units', 'cost per unit']\n"
          ]
        }
      ],
      "source": [
        "print(numeric_inputs)"
      ]
    },
    {
      "cell_type": "code",
      "execution_count": 21,
      "metadata": {
        "id": "5b3iho7ZkeBt"
      },
      "outputs": [],
      "source": [
        "# Now create your final features list\n",
        "features_list = numeric_inputs + string_inputs\n",
        "# Create your vector assembler object\n",
        "assembler = VectorAssembler(inputCols=features_list,outputCol='features')\n",
        "# And call on the vector assembler to transform your dataframe\n",
        "output = assembler.transform(indexed).select('features','label')"
      ]
    },
    {
      "cell_type": "code",
      "execution_count": 22,
      "metadata": {
        "colab": {
          "base_uri": "https://localhost:8080/"
        },
        "id": "luoq4fTAkgA1",
        "outputId": "f4e24ef8-ce6e-47ec-bef7-43cc1bace8ed"
      },
      "outputs": [
        {
          "data": {
            "text/plain": [
              "DataFrame[features: vector, label: double]"
            ]
          },
          "execution_count": 22,
          "metadata": {},
          "output_type": "execute_result"
        }
      ],
      "source": [
        "output"
      ]
    },
    {
      "cell_type": "code",
      "execution_count": 23,
      "metadata": {
        "colab": {
          "base_uri": "https://localhost:8080/"
        },
        "id": "RvvhwbwKkgEf",
        "outputId": "9ededec7-b06c-4d71-da7f-d6e029354585"
      },
      "outputs": [
        {
          "name": "stdout",
          "output_type": "stream",
          "text": [
            "Features scaled to range: [0.000000, 1000.000000]\n"
          ]
        }
      ],
      "source": [
        "scaler = MinMaxScaler(inputCol=\"features\", outputCol=\"scaledFeatures\",min=0,max=1000)\n",
        "print(\"Features scaled to range: [%f, %f]\" % (scaler.getMin(), scaler.getMax()))"
      ]
    },
    {
      "cell_type": "code",
      "execution_count": 24,
      "metadata": {
        "id": "ZgVqGqjnkgIO"
      },
      "outputs": [],
      "source": [
        "scalerModel = scaler.fit(output)"
      ]
    },
    {
      "cell_type": "code",
      "execution_count": 25,
      "metadata": {
        "id": "Sb3PWoQskmE8"
      },
      "outputs": [],
      "source": [
        "# rescale each feature to range [min, max].\n",
        "scaled_data = scalerModel.transform(output)\n",
        "final_data = scaled_data.select('label','scaledFeatures')"
      ]
    },
    {
      "cell_type": "code",
      "execution_count": 26,
      "metadata": {
        "colab": {
          "base_uri": "https://localhost:8080/"
        },
        "id": "Di50b6sSkmH2",
        "outputId": "4e98ee2f-0608-4ce6-b3df-1da9f8f8b2f8"
      },
      "outputs": [
        {
          "name": "stdout",
          "output_type": "stream",
          "text": [
            "+-----+--------------------+\n",
            "|label|            features|\n",
            "+-----+--------------------+\n",
            "| 45.0|[217.142857142857...|\n",
            "|210.0|[874.285714285714...|\n",
            "| 27.0|[280.0,642.857142...|\n",
            "|259.0|[548.571428571428...|\n",
            "| 75.0|[788.571428571428...|\n",
            "|249.0|[822.857142857142...|\n",
            "| 95.0|[102.857142857142...|\n",
            "|174.0|[400.0,500.0,400....|\n",
            "|  3.0|[142.857142857142...|\n",
            "| 18.0|[22.8571428571428...|\n",
            "| 49.0|[880.0,714.285714...|\n",
            "|142.0|[274.285714285714...|\n",
            "| 14.0|[228.571428571428...|\n",
            "|112.0|[102.857142857142...|\n",
            "| 89.0|[445.714285714285...|\n",
            "|  9.0|[125.714285714285...|\n",
            "| 24.0|[165.714285714285...|\n",
            "| 67.0|[645.714285714285...|\n",
            "|143.0|[274.285714285714...|\n",
            "|257.0|[308.571428571428...|\n",
            "+-----+--------------------+\n",
            "only showing top 20 rows\n",
            "\n"
          ]
        }
      ],
      "source": [
        "# Rename to default value\n",
        "final_data = final_data.withColumnRenamed(\"scaledFeatures\",\"features\")\n",
        "final_data.show()"
      ]
    },
    {
      "cell_type": "code",
      "execution_count": 27,
      "metadata": {
        "id": "kzf3lnv2kmMw"
      },
      "outputs": [],
      "source": [
        "train,test = final_data.randomSplit([0.7,0.3])"
      ]
    },
    {
      "cell_type": "code",
      "execution_count": 28,
      "metadata": {
        "id": "ocD6plXkkmQQ"
      },
      "outputs": [],
      "source": [
        "from pyspark.ml.classification import *\n",
        "from pyspark.ml.evaluation import *\n",
        "from pyspark.sql.functions import *\n",
        "from pyspark.ml.tuning import CrossValidator, ParamGridBuilder"
      ]
    },
    {
      "cell_type": "markdown",
      "metadata": {
        "id": "E0b93OAbmL8K"
      },
      "source": [
        "Logistic Regression"
      ]
    },
    {
      "cell_type": "code",
      "execution_count": 29,
      "metadata": {
        "id": "E-9GiUuZktRY"
      },
      "outputs": [],
      "source": [
        "classifier = LogisticRegression()\n",
        "fitModel = classifier.fit(train)"
      ]
    },
    {
      "cell_type": "code",
      "execution_count": 30,
      "metadata": {
        "id": "qb6lhtTaku81"
      },
      "outputs": [],
      "source": [
        "predictions = fitModel.transform(test)"
      ]
    },
    {
      "cell_type": "code",
      "execution_count": 31,
      "metadata": {
        "colab": {
          "base_uri": "https://localhost:8080/"
        },
        "id": "780u6SpFkvAN",
        "outputId": "5f85bef2-2573-4dc2-b601-118bf8731e8e"
      },
      "outputs": [
        {
          "name": "stdout",
          "output_type": "stream",
          "text": [
            "Accuracy: 0.00 %\n",
            " \n"
          ]
        }
      ],
      "source": [
        "MC_evaluator = MulticlassClassificationEvaluator(metricName=\"accuracy\") # redictionCol=\"prediction\"\n",
        "accuracy = (MC_evaluator.evaluate(predictions))*100\n",
        "print(\"Accuracy: {0:.2f}\".format(accuracy),\"%\") #     print(\"Test Error = %g \" % (1.0 - accuracy))\n",
        "print(\" \")"
      ]
    },
    {
      "cell_type": "code",
      "execution_count": 32,
      "metadata": {
        "colab": {
          "base_uri": "https://localhost:8080/"
        },
        "id": "zD4rkWIYkvD5",
        "outputId": "52ad34cd-f41c-4887-c52e-a9919c4b172f"
      },
      "outputs": [
        {
          "name": "stdout",
          "output_type": "stream",
          "text": [
            "+-------+------------------+------------------+\n",
            "|summary|             label|        prediction|\n",
            "+-------+------------------+------------------+\n",
            "|  count|               227|               227|\n",
            "|   mean|118.56387665198238|118.56387665198238|\n",
            "| stddev| 81.76839252891959| 81.76839252891959|\n",
            "|    min|               0.0|               0.0|\n",
            "|    max|             267.0|             267.0|\n",
            "+-------+------------------+------------------+\n",
            "\n",
            " \n",
            "objectiveHistory: (scaled loss + regularization) at each iteration\n",
            "5.439962985866309\n",
            "4.584053186814962\n",
            "1.8805450641702472\n",
            "1.871564339930548\n",
            "1.2834006851321165\n",
            "0.9366156260906833\n",
            "0.7017660301026495\n",
            "0.4912355625924652\n",
            "0.3747065150769765\n",
            "0.2684919976058607\n",
            "0.1987975774716919\n",
            "0.11831723399274868\n",
            "0.09985150396438586\n",
            "0.055468492031782834\n",
            "0.040769780990268886\n",
            "0.02997331338214479\n",
            "0.019002879072964954\n",
            "0.010900675434447558\n",
            "0.007633674863727023\n",
            "0.006786598886408559\n",
            "0.0033108039418502985\n",
            "0.0018501126243534473\n",
            "0.001153744213846479\n",
            "0.0005358302500121422\n",
            "0.00030702051786440194\n",
            "0.00015417140973371333\n",
            "8.061001084873794e-05\n",
            "4.097240776164866e-05\n",
            "1.8784167001576462e-05\n",
            "9.760844901797976e-06\n",
            "5.584525675579992e-06\n",
            "2.718088915803817e-06\n",
            "1.3437003432656414e-06\n",
            "6.798655127827325e-07\n",
            "3.427383295926931e-07\n",
            "2.6562791815626116e-07\n",
            "9.40556714293654e-08\n",
            "6.005806135371432e-08\n",
            "2.80625150150313e-08\n",
            "1.4354374304724625e-08\n",
            " \n",
            "False positive rate by label:\n",
            "label 0: 0.0\n",
            "label 1: 0.0\n",
            "label 2: 0.0\n",
            "label 3: 0.0\n",
            "label 4: 0.0\n",
            "label 5: 0.0\n",
            "label 6: 0.0\n",
            "label 7: 0.0\n",
            "label 8: 0.0\n",
            "label 9: 0.0\n",
            "label 10: 0.0\n",
            "label 11: 0.0\n",
            "label 12: 0.0\n",
            "label 13: 0.0\n",
            "label 14: 0.0\n",
            "label 15: 0.0\n",
            "label 16: 0.0\n",
            "label 17: 0.0\n",
            "label 18: 0.0\n",
            "label 19: 0.0\n",
            "label 20: 0.0\n",
            "label 21: 0.0\n",
            "label 22: 0.0\n",
            "label 23: 0.0\n",
            "label 24: 0.0\n",
            "label 25: 0.0\n",
            "label 26: 0.0\n",
            "label 27: 0.0\n",
            "label 28: 0.0\n",
            "label 29: 0.0\n",
            "label 30: 0.0\n",
            "label 31: 0.0\n",
            "label 32: 0.0\n",
            "label 33: 0.0\n",
            "label 34: 0.0\n",
            "label 35: 0.0\n",
            "label 36: 0.0\n",
            "label 37: 0.0\n",
            "label 38: 0.0\n",
            "label 39: 0.0\n",
            "label 40: 0.0\n",
            "label 41: 0.0\n",
            "label 42: 0.0\n",
            "label 43: 0.0\n",
            "label 44: 0.0\n",
            "label 45: 0.0\n",
            "label 46: 0.0\n",
            "label 47: 0.0\n",
            "label 48: 0.0\n",
            "label 49: 0.0\n",
            "label 50: 0.0\n",
            "label 51: 0.0\n",
            "label 52: 0.0\n",
            "label 53: 0.0\n",
            "label 54: 0.0\n",
            "label 55: 0.0\n",
            "label 56: 0.0\n",
            "label 57: 0.0\n",
            "label 58: 0.0\n",
            "label 59: 0.0\n",
            "label 60: 0.0\n",
            "label 61: 0.0\n",
            "label 62: 0.0\n",
            "label 63: 0.0\n",
            "label 64: 0.0\n",
            "label 65: 0.0\n",
            "label 66: 0.0\n",
            "label 67: 0.0\n",
            "label 68: 0.0\n",
            "label 69: 0.0\n",
            "label 70: 0.0\n",
            "label 71: 0.0\n",
            "label 72: 0.0\n",
            "label 73: 0.0\n",
            "label 74: 0.0\n",
            "label 75: 0.0\n",
            "label 76: 0.0\n",
            "label 77: 0.0\n",
            "label 78: 0.0\n",
            "label 79: 0.0\n",
            "label 80: 0.0\n",
            "label 81: 0.0\n",
            "label 82: 0.0\n",
            "label 83: 0.0\n",
            "label 84: 0.0\n",
            "label 85: 0.0\n",
            "label 86: 0.0\n",
            "label 87: 0.0\n",
            "label 88: 0.0\n",
            "label 89: 0.0\n",
            "label 90: 0.0\n",
            "label 91: 0.0\n",
            "label 92: 0.0\n",
            "label 93: 0.0\n",
            "label 94: 0.0\n",
            "label 95: 0.0\n",
            "label 96: 0.0\n",
            "label 97: 0.0\n",
            "label 98: 0.0\n",
            "label 99: 0.0\n",
            "label 100: 0.0\n",
            "label 101: 0.0\n",
            "label 102: 0.0\n",
            "label 103: 0.0\n",
            "label 104: 0.0\n",
            "label 105: 0.0\n",
            "label 106: 0.0\n",
            "label 107: 0.0\n",
            "label 108: 0.0\n",
            "label 109: 0.0\n",
            "label 110: 0.0\n",
            "label 111: 0.0\n",
            "label 112: 0.0\n",
            "label 113: 0.0\n",
            "label 114: 0.0\n",
            "label 115: 0.0\n",
            "label 116: 0.0\n",
            "label 117: 0.0\n",
            "label 118: 0.0\n",
            "label 119: 0.0\n",
            "label 120: 0.0\n",
            "label 121: 0.0\n",
            "label 122: 0.0\n",
            "label 123: 0.0\n",
            "label 124: 0.0\n",
            "label 125: 0.0\n",
            "label 126: 0.0\n",
            "label 127: 0.0\n",
            "label 128: 0.0\n",
            "label 129: 0.0\n",
            "label 130: 0.0\n",
            "label 131: 0.0\n",
            "label 132: 0.0\n",
            "label 133: 0.0\n",
            "label 134: 0.0\n",
            "label 135: 0.0\n",
            "label 136: 0.0\n",
            "label 137: 0.0\n",
            "label 138: 0.0\n",
            "label 139: 0.0\n",
            "label 140: 0.0\n",
            "label 141: 0.0\n",
            "label 142: 0.0\n",
            "label 143: 0.0\n",
            "label 144: 0.0\n",
            "label 145: 0.0\n",
            "label 146: 0.0\n",
            "label 147: 0.0\n",
            "label 148: 0.0\n",
            "label 149: 0.0\n",
            "label 150: 0.0\n",
            "label 151: 0.0\n",
            "label 152: 0.0\n",
            "label 153: 0.0\n",
            "label 154: 0.0\n",
            "label 155: 0.0\n",
            "label 156: 0.0\n",
            "label 157: 0.0\n",
            "label 158: 0.0\n",
            "label 159: 0.0\n",
            "label 160: 0.0\n",
            "label 161: 0.0\n",
            "label 162: 0.0\n",
            "label 163: 0.0\n",
            "label 164: 0.0\n",
            "label 165: 0.0\n",
            "label 166: 0.0\n",
            "label 167: 0.0\n",
            "label 168: 0.0\n",
            "label 169: 0.0\n",
            "label 170: 0.0\n",
            "label 171: 0.0\n",
            "label 172: 0.0\n",
            "label 173: 0.0\n",
            "label 174: 0.0\n",
            "label 175: 0.0\n",
            "label 176: 0.0\n",
            "label 177: 0.0\n",
            "label 178: 0.0\n",
            "label 179: 0.0\n",
            "label 180: 0.0\n",
            "label 181: 0.0\n",
            "label 182: 0.0\n",
            "label 183: 0.0\n",
            "label 184: 0.0\n",
            "label 185: 0.0\n",
            "label 186: 0.0\n",
            "label 187: 0.0\n",
            "label 188: 0.0\n",
            "label 189: 0.0\n",
            "label 190: 0.0\n",
            "label 191: 0.0\n",
            "label 192: 0.0\n",
            "label 193: 0.0\n",
            "label 194: 0.0\n",
            "label 195: 0.0\n",
            "label 196: 0.0\n",
            "label 197: 0.0\n",
            "label 198: 0.0\n",
            "label 199: 0.0\n",
            "label 200: 0.0\n",
            "label 201: 0.0\n",
            "label 202: 0.0\n",
            "label 203: 0.0\n",
            "label 204: 0.0\n",
            "label 205: 0.0\n",
            "label 206: 0.0\n",
            " \n",
            "True positive rate by label:\n",
            "label 0: 1.0\n",
            "label 1: 1.0\n",
            "label 2: 1.0\n",
            "label 3: 1.0\n",
            "label 4: 1.0\n",
            "label 5: 1.0\n",
            "label 6: 1.0\n",
            "label 7: 1.0\n",
            "label 8: 1.0\n",
            "label 9: 1.0\n",
            "label 10: 1.0\n",
            "label 11: 1.0\n",
            "label 12: 1.0\n",
            "label 13: 1.0\n",
            "label 14: 1.0\n",
            "label 15: 1.0\n",
            "label 16: 1.0\n",
            "label 17: 1.0\n",
            "label 18: 1.0\n",
            "label 19: 1.0\n",
            "label 20: 1.0\n",
            "label 21: 1.0\n",
            "label 22: 1.0\n",
            "label 23: 1.0\n",
            "label 24: 1.0\n",
            "label 25: 1.0\n",
            "label 26: 1.0\n",
            "label 27: 1.0\n",
            "label 28: 1.0\n",
            "label 29: 1.0\n",
            "label 30: 1.0\n",
            "label 31: 1.0\n",
            "label 32: 1.0\n",
            "label 33: 1.0\n",
            "label 34: 1.0\n",
            "label 35: 1.0\n",
            "label 36: 1.0\n",
            "label 37: 1.0\n",
            "label 38: 1.0\n",
            "label 39: 1.0\n",
            "label 40: 1.0\n",
            "label 41: 1.0\n",
            "label 42: 1.0\n",
            "label 43: 1.0\n",
            "label 44: 1.0\n",
            "label 45: 1.0\n",
            "label 46: 1.0\n",
            "label 47: 1.0\n",
            "label 48: 1.0\n",
            "label 49: 1.0\n",
            "label 50: 1.0\n",
            "label 51: 1.0\n",
            "label 52: 1.0\n",
            "label 53: 1.0\n",
            "label 54: 1.0\n",
            "label 55: 1.0\n",
            "label 56: 1.0\n",
            "label 57: 1.0\n",
            "label 58: 1.0\n",
            "label 59: 1.0\n",
            "label 60: 1.0\n",
            "label 61: 1.0\n",
            "label 62: 1.0\n",
            "label 63: 1.0\n",
            "label 64: 1.0\n",
            "label 65: 1.0\n",
            "label 66: 1.0\n",
            "label 67: 1.0\n",
            "label 68: 1.0\n",
            "label 69: 1.0\n",
            "label 70: 1.0\n",
            "label 71: 1.0\n",
            "label 72: 1.0\n",
            "label 73: 1.0\n",
            "label 74: 1.0\n",
            "label 75: 1.0\n",
            "label 76: 1.0\n",
            "label 77: 1.0\n",
            "label 78: 1.0\n",
            "label 79: 1.0\n",
            "label 80: 1.0\n",
            "label 81: 1.0\n",
            "label 82: 1.0\n",
            "label 83: 1.0\n",
            "label 84: 1.0\n",
            "label 85: 1.0\n",
            "label 86: 1.0\n",
            "label 87: 1.0\n",
            "label 88: 1.0\n",
            "label 89: 1.0\n",
            "label 90: 1.0\n",
            "label 91: 1.0\n",
            "label 92: 1.0\n",
            "label 93: 1.0\n",
            "label 94: 1.0\n",
            "label 95: 1.0\n",
            "label 96: 1.0\n",
            "label 97: 1.0\n",
            "label 98: 1.0\n",
            "label 99: 1.0\n",
            "label 100: 1.0\n",
            "label 101: 1.0\n",
            "label 102: 1.0\n",
            "label 103: 1.0\n",
            "label 104: 1.0\n",
            "label 105: 1.0\n",
            "label 106: 1.0\n",
            "label 107: 1.0\n",
            "label 108: 1.0\n",
            "label 109: 1.0\n",
            "label 110: 1.0\n",
            "label 111: 1.0\n",
            "label 112: 1.0\n",
            "label 113: 1.0\n",
            "label 114: 1.0\n",
            "label 115: 1.0\n",
            "label 116: 1.0\n",
            "label 117: 1.0\n",
            "label 118: 1.0\n",
            "label 119: 1.0\n",
            "label 120: 1.0\n",
            "label 121: 1.0\n",
            "label 122: 1.0\n",
            "label 123: 1.0\n",
            "label 124: 1.0\n",
            "label 125: 1.0\n",
            "label 126: 1.0\n",
            "label 127: 1.0\n",
            "label 128: 1.0\n",
            "label 129: 1.0\n",
            "label 130: 1.0\n",
            "label 131: 1.0\n",
            "label 132: 1.0\n",
            "label 133: 1.0\n",
            "label 134: 1.0\n",
            "label 135: 1.0\n",
            "label 136: 1.0\n",
            "label 137: 1.0\n",
            "label 138: 1.0\n",
            "label 139: 1.0\n",
            "label 140: 1.0\n",
            "label 141: 1.0\n",
            "label 142: 1.0\n",
            "label 143: 1.0\n",
            "label 144: 1.0\n",
            "label 145: 1.0\n",
            "label 146: 1.0\n",
            "label 147: 1.0\n",
            "label 148: 1.0\n",
            "label 149: 1.0\n",
            "label 150: 1.0\n",
            "label 151: 1.0\n",
            "label 152: 1.0\n",
            "label 153: 1.0\n",
            "label 154: 1.0\n",
            "label 155: 1.0\n",
            "label 156: 1.0\n",
            "label 157: 1.0\n",
            "label 158: 1.0\n",
            "label 159: 1.0\n",
            "label 160: 1.0\n",
            "label 161: 1.0\n",
            "label 162: 1.0\n",
            "label 163: 1.0\n",
            "label 164: 1.0\n",
            "label 165: 1.0\n",
            "label 166: 1.0\n",
            "label 167: 1.0\n",
            "label 168: 1.0\n",
            "label 169: 1.0\n",
            "label 170: 1.0\n",
            "label 171: 1.0\n",
            "label 172: 1.0\n",
            "label 173: 1.0\n",
            "label 174: 1.0\n",
            "label 175: 1.0\n",
            "label 176: 1.0\n",
            "label 177: 1.0\n",
            "label 178: 1.0\n",
            "label 179: 1.0\n",
            "label 180: 1.0\n",
            "label 181: 1.0\n",
            "label 182: 1.0\n",
            "label 183: 1.0\n",
            "label 184: 1.0\n",
            "label 185: 1.0\n",
            "label 186: 1.0\n",
            "label 187: 1.0\n",
            "label 188: 1.0\n",
            "label 189: 1.0\n",
            "label 190: 1.0\n",
            "label 191: 1.0\n",
            "label 192: 1.0\n",
            "label 193: 1.0\n",
            "label 194: 1.0\n",
            "label 195: 1.0\n",
            "label 196: 1.0\n",
            "label 197: 1.0\n",
            "label 198: 1.0\n",
            "label 199: 1.0\n",
            "label 200: 1.0\n",
            "label 201: 1.0\n",
            "label 202: 1.0\n",
            "label 203: 1.0\n",
            "label 204: 1.0\n",
            "label 205: 1.0\n",
            "label 206: 1.0\n",
            " \n",
            "Precision by label:\n",
            "label 0: 1.0\n",
            "label 1: 1.0\n",
            "label 2: 1.0\n",
            "label 3: 1.0\n",
            "label 4: 1.0\n",
            "label 5: 1.0\n",
            "label 6: 1.0\n",
            "label 7: 1.0\n",
            "label 8: 1.0\n",
            "label 9: 1.0\n",
            "label 10: 1.0\n",
            "label 11: 1.0\n",
            "label 12: 1.0\n",
            "label 13: 1.0\n",
            "label 14: 1.0\n",
            "label 15: 1.0\n",
            "label 16: 1.0\n",
            "label 17: 1.0\n",
            "label 18: 1.0\n",
            "label 19: 1.0\n",
            "label 20: 1.0\n",
            "label 21: 1.0\n",
            "label 22: 1.0\n",
            "label 23: 1.0\n",
            "label 24: 1.0\n",
            "label 25: 1.0\n",
            "label 26: 1.0\n",
            "label 27: 1.0\n",
            "label 28: 1.0\n",
            "label 29: 1.0\n",
            "label 30: 1.0\n",
            "label 31: 1.0\n",
            "label 32: 1.0\n",
            "label 33: 1.0\n",
            "label 34: 1.0\n",
            "label 35: 1.0\n",
            "label 36: 1.0\n",
            "label 37: 1.0\n",
            "label 38: 1.0\n",
            "label 39: 1.0\n",
            "label 40: 1.0\n",
            "label 41: 1.0\n",
            "label 42: 1.0\n",
            "label 43: 1.0\n",
            "label 44: 1.0\n",
            "label 45: 1.0\n",
            "label 46: 1.0\n",
            "label 47: 1.0\n",
            "label 48: 1.0\n",
            "label 49: 1.0\n",
            "label 50: 1.0\n",
            "label 51: 1.0\n",
            "label 52: 1.0\n",
            "label 53: 1.0\n",
            "label 54: 1.0\n",
            "label 55: 1.0\n",
            "label 56: 1.0\n",
            "label 57: 1.0\n",
            "label 58: 1.0\n",
            "label 59: 1.0\n",
            "label 60: 1.0\n",
            "label 61: 1.0\n",
            "label 62: 1.0\n",
            "label 63: 1.0\n",
            "label 64: 1.0\n",
            "label 65: 1.0\n",
            "label 66: 1.0\n",
            "label 67: 1.0\n",
            "label 68: 1.0\n",
            "label 69: 1.0\n",
            "label 70: 1.0\n",
            "label 71: 1.0\n",
            "label 72: 1.0\n",
            "label 73: 1.0\n",
            "label 74: 1.0\n",
            "label 75: 1.0\n",
            "label 76: 1.0\n",
            "label 77: 1.0\n",
            "label 78: 1.0\n",
            "label 79: 1.0\n",
            "label 80: 1.0\n",
            "label 81: 1.0\n",
            "label 82: 1.0\n",
            "label 83: 1.0\n",
            "label 84: 1.0\n",
            "label 85: 1.0\n",
            "label 86: 1.0\n",
            "label 87: 1.0\n",
            "label 88: 1.0\n",
            "label 89: 1.0\n",
            "label 90: 1.0\n",
            "label 91: 1.0\n",
            "label 92: 1.0\n",
            "label 93: 1.0\n",
            "label 94: 1.0\n",
            "label 95: 1.0\n",
            "label 96: 1.0\n",
            "label 97: 1.0\n",
            "label 98: 1.0\n",
            "label 99: 1.0\n",
            "label 100: 1.0\n",
            "label 101: 1.0\n",
            "label 102: 1.0\n",
            "label 103: 1.0\n",
            "label 104: 1.0\n",
            "label 105: 1.0\n",
            "label 106: 1.0\n",
            "label 107: 1.0\n",
            "label 108: 1.0\n",
            "label 109: 1.0\n",
            "label 110: 1.0\n",
            "label 111: 1.0\n",
            "label 112: 1.0\n",
            "label 113: 1.0\n",
            "label 114: 1.0\n",
            "label 115: 1.0\n",
            "label 116: 1.0\n",
            "label 117: 1.0\n",
            "label 118: 1.0\n",
            "label 119: 1.0\n",
            "label 120: 1.0\n",
            "label 121: 1.0\n",
            "label 122: 1.0\n",
            "label 123: 1.0\n",
            "label 124: 1.0\n",
            "label 125: 1.0\n",
            "label 126: 1.0\n",
            "label 127: 1.0\n",
            "label 128: 1.0\n",
            "label 129: 1.0\n",
            "label 130: 1.0\n",
            "label 131: 1.0\n",
            "label 132: 1.0\n",
            "label 133: 1.0\n",
            "label 134: 1.0\n",
            "label 135: 1.0\n",
            "label 136: 1.0\n",
            "label 137: 1.0\n",
            "label 138: 1.0\n",
            "label 139: 1.0\n",
            "label 140: 1.0\n",
            "label 141: 1.0\n",
            "label 142: 1.0\n",
            "label 143: 1.0\n",
            "label 144: 1.0\n",
            "label 145: 1.0\n",
            "label 146: 1.0\n",
            "label 147: 1.0\n",
            "label 148: 1.0\n",
            "label 149: 1.0\n",
            "label 150: 1.0\n",
            "label 151: 1.0\n",
            "label 152: 1.0\n",
            "label 153: 1.0\n",
            "label 154: 1.0\n",
            "label 155: 1.0\n",
            "label 156: 1.0\n",
            "label 157: 1.0\n",
            "label 158: 1.0\n",
            "label 159: 1.0\n",
            "label 160: 1.0\n",
            "label 161: 1.0\n",
            "label 162: 1.0\n",
            "label 163: 1.0\n",
            "label 164: 1.0\n",
            "label 165: 1.0\n",
            "label 166: 1.0\n",
            "label 167: 1.0\n",
            "label 168: 1.0\n",
            "label 169: 1.0\n",
            "label 170: 1.0\n",
            "label 171: 1.0\n",
            "label 172: 1.0\n",
            "label 173: 1.0\n",
            "label 174: 1.0\n",
            "label 175: 1.0\n",
            "label 176: 1.0\n",
            "label 177: 1.0\n",
            "label 178: 1.0\n",
            "label 179: 1.0\n",
            "label 180: 1.0\n",
            "label 181: 1.0\n",
            "label 182: 1.0\n",
            "label 183: 1.0\n",
            "label 184: 1.0\n",
            "label 185: 1.0\n",
            "label 186: 1.0\n",
            "label 187: 1.0\n",
            "label 188: 1.0\n",
            "label 189: 1.0\n",
            "label 190: 1.0\n",
            "label 191: 1.0\n",
            "label 192: 1.0\n",
            "label 193: 1.0\n",
            "label 194: 1.0\n",
            "label 195: 1.0\n",
            "label 196: 1.0\n",
            "label 197: 1.0\n",
            "label 198: 1.0\n",
            "label 199: 1.0\n",
            "label 200: 1.0\n",
            "label 201: 1.0\n",
            "label 202: 1.0\n",
            "label 203: 1.0\n",
            "label 204: 1.0\n",
            "label 205: 1.0\n",
            "label 206: 1.0\n",
            " \n",
            "Recall by label:\n",
            "label 0: 1.0\n",
            "label 1: 1.0\n",
            "label 2: 1.0\n",
            "label 3: 1.0\n",
            "label 4: 1.0\n",
            "label 5: 1.0\n",
            "label 6: 1.0\n",
            "label 7: 1.0\n",
            "label 8: 1.0\n",
            "label 9: 1.0\n",
            "label 10: 1.0\n",
            "label 11: 1.0\n",
            "label 12: 1.0\n",
            "label 13: 1.0\n",
            "label 14: 1.0\n",
            "label 15: 1.0\n",
            "label 16: 1.0\n",
            "label 17: 1.0\n",
            "label 18: 1.0\n",
            "label 19: 1.0\n",
            "label 20: 1.0\n",
            "label 21: 1.0\n",
            "label 22: 1.0\n",
            "label 23: 1.0\n",
            "label 24: 1.0\n",
            "label 25: 1.0\n",
            "label 26: 1.0\n",
            "label 27: 1.0\n",
            "label 28: 1.0\n",
            "label 29: 1.0\n",
            "label 30: 1.0\n",
            "label 31: 1.0\n",
            "label 32: 1.0\n",
            "label 33: 1.0\n",
            "label 34: 1.0\n",
            "label 35: 1.0\n",
            "label 36: 1.0\n",
            "label 37: 1.0\n",
            "label 38: 1.0\n",
            "label 39: 1.0\n",
            "label 40: 1.0\n",
            "label 41: 1.0\n",
            "label 42: 1.0\n",
            "label 43: 1.0\n",
            "label 44: 1.0\n",
            "label 45: 1.0\n",
            "label 46: 1.0\n",
            "label 47: 1.0\n",
            "label 48: 1.0\n",
            "label 49: 1.0\n",
            "label 50: 1.0\n",
            "label 51: 1.0\n",
            "label 52: 1.0\n",
            "label 53: 1.0\n",
            "label 54: 1.0\n",
            "label 55: 1.0\n",
            "label 56: 1.0\n",
            "label 57: 1.0\n",
            "label 58: 1.0\n",
            "label 59: 1.0\n",
            "label 60: 1.0\n",
            "label 61: 1.0\n",
            "label 62: 1.0\n",
            "label 63: 1.0\n",
            "label 64: 1.0\n",
            "label 65: 1.0\n",
            "label 66: 1.0\n",
            "label 67: 1.0\n",
            "label 68: 1.0\n",
            "label 69: 1.0\n",
            "label 70: 1.0\n",
            "label 71: 1.0\n",
            "label 72: 1.0\n",
            "label 73: 1.0\n",
            "label 74: 1.0\n",
            "label 75: 1.0\n",
            "label 76: 1.0\n",
            "label 77: 1.0\n",
            "label 78: 1.0\n",
            "label 79: 1.0\n",
            "label 80: 1.0\n",
            "label 81: 1.0\n",
            "label 82: 1.0\n",
            "label 83: 1.0\n",
            "label 84: 1.0\n",
            "label 85: 1.0\n",
            "label 86: 1.0\n",
            "label 87: 1.0\n",
            "label 88: 1.0\n",
            "label 89: 1.0\n",
            "label 90: 1.0\n",
            "label 91: 1.0\n",
            "label 92: 1.0\n",
            "label 93: 1.0\n",
            "label 94: 1.0\n",
            "label 95: 1.0\n",
            "label 96: 1.0\n",
            "label 97: 1.0\n",
            "label 98: 1.0\n",
            "label 99: 1.0\n",
            "label 100: 1.0\n",
            "label 101: 1.0\n",
            "label 102: 1.0\n",
            "label 103: 1.0\n",
            "label 104: 1.0\n",
            "label 105: 1.0\n",
            "label 106: 1.0\n",
            "label 107: 1.0\n",
            "label 108: 1.0\n",
            "label 109: 1.0\n",
            "label 110: 1.0\n",
            "label 111: 1.0\n",
            "label 112: 1.0\n",
            "label 113: 1.0\n",
            "label 114: 1.0\n",
            "label 115: 1.0\n",
            "label 116: 1.0\n",
            "label 117: 1.0\n",
            "label 118: 1.0\n",
            "label 119: 1.0\n",
            "label 120: 1.0\n",
            "label 121: 1.0\n",
            "label 122: 1.0\n",
            "label 123: 1.0\n",
            "label 124: 1.0\n",
            "label 125: 1.0\n",
            "label 126: 1.0\n",
            "label 127: 1.0\n",
            "label 128: 1.0\n",
            "label 129: 1.0\n",
            "label 130: 1.0\n",
            "label 131: 1.0\n",
            "label 132: 1.0\n",
            "label 133: 1.0\n",
            "label 134: 1.0\n",
            "label 135: 1.0\n",
            "label 136: 1.0\n",
            "label 137: 1.0\n",
            "label 138: 1.0\n",
            "label 139: 1.0\n",
            "label 140: 1.0\n",
            "label 141: 1.0\n",
            "label 142: 1.0\n",
            "label 143: 1.0\n",
            "label 144: 1.0\n",
            "label 145: 1.0\n",
            "label 146: 1.0\n",
            "label 147: 1.0\n",
            "label 148: 1.0\n",
            "label 149: 1.0\n",
            "label 150: 1.0\n",
            "label 151: 1.0\n",
            "label 152: 1.0\n",
            "label 153: 1.0\n",
            "label 154: 1.0\n",
            "label 155: 1.0\n",
            "label 156: 1.0\n",
            "label 157: 1.0\n",
            "label 158: 1.0\n",
            "label 159: 1.0\n",
            "label 160: 1.0\n",
            "label 161: 1.0\n",
            "label 162: 1.0\n",
            "label 163: 1.0\n",
            "label 164: 1.0\n",
            "label 165: 1.0\n",
            "label 166: 1.0\n",
            "label 167: 1.0\n",
            "label 168: 1.0\n",
            "label 169: 1.0\n",
            "label 170: 1.0\n",
            "label 171: 1.0\n",
            "label 172: 1.0\n",
            "label 173: 1.0\n",
            "label 174: 1.0\n",
            "label 175: 1.0\n",
            "label 176: 1.0\n",
            "label 177: 1.0\n",
            "label 178: 1.0\n",
            "label 179: 1.0\n",
            "label 180: 1.0\n",
            "label 181: 1.0\n",
            "label 182: 1.0\n",
            "label 183: 1.0\n",
            "label 184: 1.0\n",
            "label 185: 1.0\n",
            "label 186: 1.0\n",
            "label 187: 1.0\n",
            "label 188: 1.0\n",
            "label 189: 1.0\n",
            "label 190: 1.0\n",
            "label 191: 1.0\n",
            "label 192: 1.0\n",
            "label 193: 1.0\n",
            "label 194: 1.0\n",
            "label 195: 1.0\n",
            "label 196: 1.0\n",
            "label 197: 1.0\n",
            "label 198: 1.0\n",
            "label 199: 1.0\n",
            "label 200: 1.0\n",
            "label 201: 1.0\n",
            "label 202: 1.0\n",
            "label 203: 1.0\n",
            "label 204: 1.0\n",
            "label 205: 1.0\n",
            "label 206: 1.0\n",
            " \n",
            "F-measure by label:\n",
            "label 0: 1.0\n",
            "label 1: 1.0\n",
            "label 2: 1.0\n",
            "label 3: 1.0\n",
            "label 4: 1.0\n",
            "label 5: 1.0\n",
            "label 6: 1.0\n",
            "label 7: 1.0\n",
            "label 8: 1.0\n",
            "label 9: 1.0\n",
            "label 10: 1.0\n",
            "label 11: 1.0\n",
            "label 12: 1.0\n",
            "label 13: 1.0\n",
            "label 14: 1.0\n",
            "label 15: 1.0\n",
            "label 16: 1.0\n",
            "label 17: 1.0\n",
            "label 18: 1.0\n",
            "label 19: 1.0\n",
            "label 20: 1.0\n",
            "label 21: 1.0\n",
            "label 22: 1.0\n",
            "label 23: 1.0\n",
            "label 24: 1.0\n",
            "label 25: 1.0\n",
            "label 26: 1.0\n",
            "label 27: 1.0\n",
            "label 28: 1.0\n",
            "label 29: 1.0\n",
            "label 30: 1.0\n",
            "label 31: 1.0\n",
            "label 32: 1.0\n",
            "label 33: 1.0\n",
            "label 34: 1.0\n",
            "label 35: 1.0\n",
            "label 36: 1.0\n",
            "label 37: 1.0\n",
            "label 38: 1.0\n",
            "label 39: 1.0\n",
            "label 40: 1.0\n",
            "label 41: 1.0\n",
            "label 42: 1.0\n",
            "label 43: 1.0\n",
            "label 44: 1.0\n",
            "label 45: 1.0\n",
            "label 46: 1.0\n",
            "label 47: 1.0\n",
            "label 48: 1.0\n",
            "label 49: 1.0\n",
            "label 50: 1.0\n",
            "label 51: 1.0\n",
            "label 52: 1.0\n",
            "label 53: 1.0\n",
            "label 54: 1.0\n",
            "label 55: 1.0\n",
            "label 56: 1.0\n",
            "label 57: 1.0\n",
            "label 58: 1.0\n",
            "label 59: 1.0\n",
            "label 60: 1.0\n",
            "label 61: 1.0\n",
            "label 62: 1.0\n",
            "label 63: 1.0\n",
            "label 64: 1.0\n",
            "label 65: 1.0\n",
            "label 66: 1.0\n",
            "label 67: 1.0\n",
            "label 68: 1.0\n",
            "label 69: 1.0\n",
            "label 70: 1.0\n",
            "label 71: 1.0\n",
            "label 72: 1.0\n",
            "label 73: 1.0\n",
            "label 74: 1.0\n",
            "label 75: 1.0\n",
            "label 76: 1.0\n",
            "label 77: 1.0\n",
            "label 78: 1.0\n",
            "label 79: 1.0\n",
            "label 80: 1.0\n",
            "label 81: 1.0\n",
            "label 82: 1.0\n",
            "label 83: 1.0\n",
            "label 84: 1.0\n",
            "label 85: 1.0\n",
            "label 86: 1.0\n",
            "label 87: 1.0\n",
            "label 88: 1.0\n",
            "label 89: 1.0\n",
            "label 90: 1.0\n",
            "label 91: 1.0\n",
            "label 92: 1.0\n",
            "label 93: 1.0\n",
            "label 94: 1.0\n",
            "label 95: 1.0\n",
            "label 96: 1.0\n",
            "label 97: 1.0\n",
            "label 98: 1.0\n",
            "label 99: 1.0\n",
            "label 100: 1.0\n",
            "label 101: 1.0\n",
            "label 102: 1.0\n",
            "label 103: 1.0\n",
            "label 104: 1.0\n",
            "label 105: 1.0\n",
            "label 106: 1.0\n",
            "label 107: 1.0\n",
            "label 108: 1.0\n",
            "label 109: 1.0\n",
            "label 110: 1.0\n",
            "label 111: 1.0\n",
            "label 112: 1.0\n",
            "label 113: 1.0\n",
            "label 114: 1.0\n",
            "label 115: 1.0\n",
            "label 116: 1.0\n",
            "label 117: 1.0\n",
            "label 118: 1.0\n",
            "label 119: 1.0\n",
            "label 120: 1.0\n",
            "label 121: 1.0\n",
            "label 122: 1.0\n",
            "label 123: 1.0\n",
            "label 124: 1.0\n",
            "label 125: 1.0\n",
            "label 126: 1.0\n",
            "label 127: 1.0\n",
            "label 128: 1.0\n",
            "label 129: 1.0\n",
            "label 130: 1.0\n",
            "label 131: 1.0\n",
            "label 132: 1.0\n",
            "label 133: 1.0\n",
            "label 134: 1.0\n",
            "label 135: 1.0\n",
            "label 136: 1.0\n",
            "label 137: 1.0\n",
            "label 138: 1.0\n",
            "label 139: 1.0\n",
            "label 140: 1.0\n",
            "label 141: 1.0\n",
            "label 142: 1.0\n",
            "label 143: 1.0\n",
            "label 144: 1.0\n",
            "label 145: 1.0\n",
            "label 146: 1.0\n",
            "label 147: 1.0\n",
            "label 148: 1.0\n",
            "label 149: 1.0\n",
            "label 150: 1.0\n",
            "label 151: 1.0\n",
            "label 152: 1.0\n",
            "label 153: 1.0\n",
            "label 154: 1.0\n",
            "label 155: 1.0\n",
            "label 156: 1.0\n",
            "label 157: 1.0\n",
            "label 158: 1.0\n",
            "label 159: 1.0\n",
            "label 160: 1.0\n",
            "label 161: 1.0\n",
            "label 162: 1.0\n",
            "label 163: 1.0\n",
            "label 164: 1.0\n",
            "label 165: 1.0\n",
            "label 166: 1.0\n",
            "label 167: 1.0\n",
            "label 168: 1.0\n",
            "label 169: 1.0\n",
            "label 170: 1.0\n",
            "label 171: 1.0\n",
            "label 172: 1.0\n",
            "label 173: 1.0\n",
            "label 174: 1.0\n",
            "label 175: 1.0\n",
            "label 176: 1.0\n",
            "label 177: 1.0\n",
            "label 178: 1.0\n",
            "label 179: 1.0\n",
            "label 180: 1.0\n",
            "label 181: 1.0\n",
            "label 182: 1.0\n",
            "label 183: 1.0\n",
            "label 184: 1.0\n",
            "label 185: 1.0\n",
            "label 186: 1.0\n",
            "label 187: 1.0\n",
            "label 188: 1.0\n",
            "label 189: 1.0\n",
            "label 190: 1.0\n",
            "label 191: 1.0\n",
            "label 192: 1.0\n",
            "label 193: 1.0\n",
            "label 194: 1.0\n",
            "label 195: 1.0\n",
            "label 196: 1.0\n",
            "label 197: 1.0\n",
            "label 198: 1.0\n",
            "label 199: 1.0\n",
            "label 200: 1.0\n",
            "label 201: 1.0\n",
            "label 202: 1.0\n",
            "label 203: 1.0\n",
            "label 204: 1.0\n",
            "label 205: 1.0\n",
            "label 206: 1.0\n",
            " \n",
            "Accuracy: 1.0\n",
            "FPR: 0.0\n",
            "TPR: 1.000000000000002\n",
            "F-measure: 1.000000000000002\n",
            "Precision: 1.000000000000002\n",
            "Recall: 1.000000000000002\n"
          ]
        }
      ],
      "source": [
        "# Load the Summary\n",
        "trainingSummary = fitModel.summary\n",
        "\n",
        "# General Describe\n",
        "trainingSummary.predictions.describe().show()\n",
        "\n",
        "# Obtain the objective per iteration\n",
        "objectiveHistory = trainingSummary.objectiveHistory\n",
        "print(\" \")\n",
        "print(\"objectiveHistory: (scaled loss + regularization) at each iteration\")\n",
        "for objective in objectiveHistory:\n",
        "    print(objective)\n",
        "\n",
        "# for multiclass, we can inspect metrics on a per-label basis\n",
        "print(\" \")\n",
        "print(\"False positive rate by label:\")\n",
        "for i, rate in enumerate(trainingSummary.falsePositiveRateByLabel):\n",
        "    print(\"label %d: %s\" % (i, rate))\n",
        "\n",
        "print(\" \")\n",
        "print(\"True positive rate by label:\")\n",
        "for i, rate in enumerate(trainingSummary.truePositiveRateByLabel):\n",
        "    print(\"label %d: %s\" % (i, rate))\n",
        "\n",
        "print(\" \")\n",
        "print(\"Precision by label:\")\n",
        "for i, prec in enumerate(trainingSummary.precisionByLabel):\n",
        "    print(\"label %d: %s\" % (i, prec))\n",
        "\n",
        "print(\" \")\n",
        "print(\"Recall by label:\")\n",
        "for i, rec in enumerate(trainingSummary.recallByLabel):\n",
        "    print(\"label %d: %s\" % (i, rec))\n",
        "\n",
        "print(\" \")\n",
        "print(\"F-measure by label:\")\n",
        "for i, f in enumerate(trainingSummary.fMeasureByLabel()):\n",
        "    print(\"label %d: %s\" % (i, f))\n",
        "\n",
        "# Generate confusion matrix and print (includes accuracy)\n",
        "accuracy = trainingSummary.accuracy\n",
        "falsePositiveRate = trainingSummary.weightedFalsePositiveRate\n",
        "truePositiveRate = trainingSummary.weightedTruePositiveRate\n",
        "fMeasure = trainingSummary.weightedFMeasure()\n",
        "precision = trainingSummary.weightedPrecision\n",
        "recall = trainingSummary.weightedRecall\n",
        "print(\" \")\n",
        "print(\"Accuracy: %s\\nFPR: %s\\nTPR: %s\\nF-measure: %s\\nPrecision: %s\\nRecall: %s\"\n",
        "      % (accuracy, falsePositiveRate, truePositiveRate, fMeasure, precision, recall))"
      ]
    },
    {
      "cell_type": "markdown",
      "metadata": {
        "id": "vBXQAjy6mTjJ"
      },
      "source": [
        "Linear Regression"
      ]
    },
    {
      "cell_type": "code",
      "execution_count": 33,
      "metadata": {
        "id": "XcZUbVzZmSzT"
      },
      "outputs": [],
      "source": [
        "from pyspark.ml.regression import LinearRegression\n",
        "from pyspark.ml.evaluation import RegressionEvaluator"
      ]
    },
    {
      "cell_type": "code",
      "execution_count": 40,
      "metadata": {
        "id": "RS4R1Aqxmh_C"
      },
      "outputs": [],
      "source": [
        "data = spark.read.csv('/content/drive/My Drive/chocolate.csv', inferSchema=True, header=True)"
      ]
    },
    {
      "cell_type": "code",
      "execution_count": 44,
      "metadata": {
        "colab": {
          "base_uri": "https://localhost:8080/"
        },
        "id": "-FDEdp-MnQ89",
        "outputId": "6a4cb263-8144-42df-ea4f-390a93b463ad"
      },
      "outputs": [
        {
          "name": "stdout",
          "output_type": "stream",
          "text": [
            "['Sales Person', 'Geography', 'Product', 'Amount', 'Units', 'cost per unit', 'Cost', 'Profit', 'profit %']\n"
          ]
        }
      ],
      "source": [
        "input_columns = data.columns \n",
        "print(input_columns)"
      ]
    },
    {
      "cell_type": "code",
      "execution_count": 45,
      "metadata": {
        "id": "QzeKnnmHnRAL"
      },
      "outputs": [],
      "source": [
        "input_columns = input_columns[1:-1]"
      ]
    },
    {
      "cell_type": "code",
      "execution_count": 46,
      "metadata": {
        "id": "OlZpevZ9nRDn"
      },
      "outputs": [],
      "source": [
        "dependent_var = 'Amount'"
      ]
    },
    {
      "cell_type": "code",
      "execution_count": 47,
      "metadata": {
        "colab": {
          "base_uri": "https://localhost:8080/"
        },
        "id": "BP11bacXnRHZ",
        "outputId": "fb36740d-951c-455b-a781-3add5f1a5030"
      },
      "outputs": [
        {
          "data": {
            "text/plain": [
              "DataFrame[Sales Person: string, Geography: string, Product: string, Amount: string, Units: int, cost per unit: int, Cost: string, Profit: string, profit %: string, label_str: string]"
            ]
          },
          "execution_count": 47,
          "metadata": {},
          "output_type": "execute_result"
        }
      ],
      "source": [
        "renamed = data.withColumn(\"label_str\", data[dependent_var].cast(StringType()))\n",
        "renamed"
      ]
    },
    {
      "cell_type": "code",
      "execution_count": 48,
      "metadata": {
        "id": "YDpdBzeInRK2"
      },
      "outputs": [],
      "source": [
        "indexer = StringIndexer(inputCol=\"label_str\", outputCol=\"label\")\n",
        "indexed = indexer.fit(renamed).transform(renamed)"
      ]
    },
    {
      "cell_type": "code",
      "execution_count": 49,
      "metadata": {
        "id": "uUIE2E0kngvb"
      },
      "outputs": [],
      "source": [
        "# Convert all string type data in the input column list to numeric\n",
        "# Otherwise the Algorithm will not be able to process it\n",
        "\n",
        "# Also we will use these lists later on\n",
        "numeric_inputs = []\n",
        "string_inputs = []\n",
        "for column in input_columns:\n",
        "    # First identify the string vars in your input column list\n",
        "    if str(indexed.schema[column].dataType) == 'StringType()':\n",
        "        # Set up your String Indexer function\n",
        "        indexer = StringIndexer(inputCol=column, outputCol=column+\"_num\") \n",
        "        # Then call on the indexer you created here\n",
        "        indexed = indexer.fit(indexed).transform(indexed)\n",
        "        # Rename the column to a new name so you can disinguish it from the original\n",
        "        new_col_name = column+\"_num\"\n",
        "        # Add the new column name to the string inputs list\n",
        "        string_inputs.append(new_col_name)\n",
        "    else:\n",
        "        # If no change was needed, take no action \n",
        "        # And add the numeric var to the num list\n",
        "        numeric_inputs.append(column)"
      ]
    },
    {
      "cell_type": "code",
      "execution_count": 50,
      "metadata": {
        "id": "BSZgTWY3ngyc"
      },
      "outputs": [],
      "source": [
        "# Now create your final features list\n",
        "features_list = numeric_inputs + string_inputs\n",
        "# Create your vector assembler object\n",
        "assembler = VectorAssembler(inputCols=features_list,outputCol='features')\n",
        "# And call on the vector assembler to transform your dataframe\n",
        "output = assembler.transform(indexed).select('features','label')"
      ]
    },
    {
      "cell_type": "code",
      "execution_count": 51,
      "metadata": {
        "colab": {
          "base_uri": "https://localhost:8080/"
        },
        "id": "9uPpvlH7ng1v",
        "outputId": "e36d38dc-07eb-461a-f631-941172a4d107"
      },
      "outputs": [
        {
          "name": "stdout",
          "output_type": "stream",
          "text": [
            "Features scaled to range: [0.000000, 1000.000000]\n"
          ]
        }
      ],
      "source": [
        "scaler = MinMaxScaler(inputCol=\"features\", outputCol=\"scaledFeatures\",min=0,max=1000)\n",
        "print(\"Features scaled to range: [%f, %f]\" % (scaler.getMin(), scaler.getMax()))"
      ]
    },
    {
      "cell_type": "code",
      "execution_count": 52,
      "metadata": {
        "id": "n2e9wb0Png4l"
      },
      "outputs": [],
      "source": [
        "scalerModel = scaler.fit(output)"
      ]
    },
    {
      "cell_type": "code",
      "execution_count": 53,
      "metadata": {
        "id": "hUK5wzten0hM"
      },
      "outputs": [],
      "source": [
        "# rescale each feature to range [min, max].\n",
        "scaled_data = scalerModel.transform(output)\n",
        "final_data = scaled_data.select('label','scaledFeatures')"
      ]
    },
    {
      "cell_type": "code",
      "execution_count": 54,
      "metadata": {
        "colab": {
          "base_uri": "https://localhost:8080/"
        },
        "id": "dgjtn9fun0kE",
        "outputId": "1c839255-4107-4226-ea92-ec359b087f46"
      },
      "outputs": [
        {
          "name": "stdout",
          "output_type": "stream",
          "text": [
            "+-----+--------------------+\n",
            "|label|            features|\n",
            "+-----+--------------------+\n",
            "| 45.0|[217.142857142857...|\n",
            "|210.0|[874.285714285714...|\n",
            "| 27.0|[280.0,642.857142...|\n",
            "|259.0|[548.571428571428...|\n",
            "| 75.0|[788.571428571428...|\n",
            "|249.0|[822.857142857142...|\n",
            "| 95.0|[102.857142857142...|\n",
            "|174.0|[400.0,500.0,400....|\n",
            "|  3.0|[142.857142857142...|\n",
            "| 18.0|[22.8571428571428...|\n",
            "| 49.0|[880.0,714.285714...|\n",
            "|142.0|[274.285714285714...|\n",
            "| 14.0|[228.571428571428...|\n",
            "|112.0|[102.857142857142...|\n",
            "| 89.0|[445.714285714285...|\n",
            "|  9.0|[125.714285714285...|\n",
            "| 24.0|[165.714285714285...|\n",
            "| 67.0|[645.714285714285...|\n",
            "|143.0|[274.285714285714...|\n",
            "|257.0|[308.571428571428...|\n",
            "+-----+--------------------+\n",
            "only showing top 20 rows\n",
            "\n"
          ]
        }
      ],
      "source": [
        "# Rename to default value\n",
        "final_data = final_data.withColumnRenamed(\"scaledFeatures\",\"features\")\n",
        "final_data.show()"
      ]
    },
    {
      "cell_type": "code",
      "execution_count": 55,
      "metadata": {
        "id": "QNAWYouhn0nS"
      },
      "outputs": [],
      "source": [
        "train,test = final_data.randomSplit([0.7,0.3])"
      ]
    },
    {
      "cell_type": "code",
      "execution_count": 41,
      "metadata": {
        "id": "XrM1NiaBmiCo"
      },
      "outputs": [],
      "source": [
        "# Split the data into training and test sets\n",
        "#(trainingData, testData) = data.randomSplit([0.7, 0.3])"
      ]
    },
    {
      "cell_type": "code",
      "execution_count": 56,
      "metadata": {
        "id": "hcuD7pdgmiJA"
      },
      "outputs": [],
      "source": [
        "# Create a Linear Regression model\n",
        "lr = LinearRegression(featuresCol=\"features\", labelCol=\"label\")"
      ]
    },
    {
      "cell_type": "code",
      "execution_count": 58,
      "metadata": {
        "id": "gKpKMjnImiNL"
      },
      "outputs": [],
      "source": [
        "# Fit the model to the training data\n",
        "lrModel = lr.fit(train)"
      ]
    },
    {
      "cell_type": "code",
      "execution_count": 59,
      "metadata": {
        "id": "TVtz1IxTmvp6"
      },
      "outputs": [],
      "source": [
        "# Use the model to make predictions on the test data\n",
        "predictions = lrModel.transform(test)"
      ]
    },
    {
      "cell_type": "code",
      "execution_count": 60,
      "metadata": {
        "id": "Xx-2FjWzmxJs"
      },
      "outputs": [],
      "source": [
        "# Evaluate the performance of the model using Root Mean Square Error (RMSE)\n",
        "evaluator = RegressionEvaluator(metricName=\"rmse\", labelCol=\"label\", predictionCol=\"prediction\")\n",
        "rmse = evaluator.evaluate(predictions)"
      ]
    },
    {
      "cell_type": "code",
      "execution_count": 61,
      "metadata": {
        "colab": {
          "base_uri": "https://localhost:8080/"
        },
        "id": "CY2T3y43mzZA",
        "outputId": "f04bedab-43b3-47c5-b28a-4f69a04f696b"
      },
      "outputs": [
        {
          "name": "stdout",
          "output_type": "stream",
          "text": [
            "Root Mean Square Error (RMSE) on test data = 2.07945e-13\n"
          ]
        }
      ],
      "source": [
        "print(\"Root Mean Square Error (RMSE) on test data = %g\" % rmse)"
      ]
    }
  ],
  "metadata": {
    "colab": {
      "provenance": []
    },
    "kernelspec": {
      "display_name": "Python 3",
      "name": "python3"
    },
    "language_info": {
      "name": "python"
    }
  },
  "nbformat": 4,
  "nbformat_minor": 0
}
